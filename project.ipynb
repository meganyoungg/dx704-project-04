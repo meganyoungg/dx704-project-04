{
  "cells": [
    {
      "cell_type": "markdown",
      "metadata": {
        "id": "Md413FzAvFD8"
      },
      "source": [
        "# DX 704 Week 4 Project\n",
        "\n",
        "This week's project will test the learning speed of linear contextual bandits compared to unoptimized approaches.\n",
        "You will start with building a preference data set for evaluation, and then implement different variations of LinUCB and visualize how fast they learn the preferences.\n"
      ]
    },
    {
      "cell_type": "markdown",
      "metadata": {
        "id": "D3gs-tquuzJe"
      },
      "source": [
        "The full project description, a template notebook and supporting code are available on GitHub: [Project 4 Materials](https://github.com/bu-cds-dx704/dx704-project-04).\n"
      ]
    },
    {
      "cell_type": "markdown",
      "metadata": {
        "id": "OguIjc5idW3Z"
      },
      "source": [
        "## Example Code\n",
        "\n",
        "You may find it helpful to refer to these GitHub repositories of Jupyter notebooks for example code.\n",
        "\n",
        "* https://github.com/bu-cds-omds/dx601-examples\n",
        "* https://github.com/bu-cds-omds/dx602-examples\n",
        "* https://github.com/bu-cds-omds/dx603-examples\n",
        "* https://github.com/bu-cds-omds/dx704-examples\n",
        "\n",
        "Any calculations demonstrated in code examples or videos may be found in these notebooks, and you are allowed to copy this example code in your homework answers."
      ]
    },
    {
      "cell_type": "markdown",
      "metadata": {
        "id": "C8oSLkMqvMFF"
      },
      "source": [
        "## Part 1: Collect Rating Data\n",
        "\n",
        "The file \"recipes.tsv\" in this repository has information about 100 recipes.\n",
        "Make a new file \"ratings.tsv\" with two columns, recipe_slug (from recipes.tsv) and rating.\n",
        "Populate the rating column with values between 0 and 1 where 0 is the worst and 1 is the best.\n",
        "You can assign these ratings however you want within that range, but try to make it reflect a consistent set of preferences.\n",
        "These could be your preferences, or a persona of your choosing (e.g. chocolate lover, bacon-obsessed, or sweet tooth).\n",
        "Make sure that there are at least 10 ratings of zero and at least 10 ratings of one.\n"
      ]
    },
    {
      "cell_type": "markdown",
      "metadata": {
        "id": "kAwViBgKfWER"
      },
      "source": [
        "Hint: You may find it more convenient to assign raw ratings from 1 to 5 and then remap them as follows.\n",
        "\n",
        "`ratings[\"rating\"] = (ratings[\"rating_raw\"] - 1) * 0.25`"
      ]
    },
    {
      "cell_type": "markdown",
      "metadata": {
        "id": "Eh7UaX6OvuWo"
      },
      "source": [
        "Submit \"ratings.tsv\" in Gradescope."
      ]
    },
    {
      "cell_type": "markdown",
      "metadata": {
        "id": "NiCwaZwr5M67"
      },
      "source": [
        "## Part 2: Construct Model Input\n",
        "\n",
        "Use your file \"ratings.tsv\" combined with \"recipe-tags.tsv\" to create a new file \"features.tsv\" with a column recipe_slug, a column bias which is hard-coded to one, and a column for each tag that appears in \"recipe-tags.tsv\".\n",
        "The tag column in this file should be a 0-1 encoding of the recipe tags for each recipe.\n",
        "[Pandas reshaping function methods](https://pandas.pydata.org/docs/user_guide/reshaping.html) may be helpful."
      ]
    },
    {
      "cell_type": "markdown",
      "metadata": {
        "id": "8WWi_JJXocEb"
      },
      "source": [
        "The bias column will make later LinUCB calculations easier since it will just be another dimension."
      ]
    },
    {
      "cell_type": "markdown",
      "metadata": {
        "id": "MHR-BsD9539j"
      },
      "source": [
        "Hint: For later modeling steps, it will be important to have the feature data (inputs) and the rating data (target outputs) in the same order.\n",
        "It is highly recommended to make sure that \"features.tsv\" and \"ratings.tsv\" have the recipe slugs in the same order."
      ]
    },
    {
      "cell_type": "code",
      "execution_count": 1,
      "metadata": {
        "id": "cGvj258d8nnv"
      },
      "outputs": [
        {
          "name": "stdout",
          "output_type": "stream",
          "text": [
            "Ratings file shape: (100, 2)\n",
            "Recipe-tags file shape: (752, 2)\n",
            "\n",
            "First few rows of ratings:\n",
            "        recipe_slug  rating\n",
            "0           falafel    0.25\n",
            "1        spamburger    0.00\n",
            "2  bacon-fried-rice    1.00\n",
            "3   chicken-fingers    0.25\n",
            "4       apple-crisp    0.75\n",
            "\n",
            "First few rows of recipe-tags:\n",
            "   recipe_slug recipe_tag\n",
            "0  spam-musubi   hawaiian\n",
            "1  spam-musubi       nori\n",
            "2  spam-musubi    onthego\n",
            "3  spam-musubi       rice\n",
            "4  spam-musubi      snack\n",
            "\n",
            "Found 296 unique tags\n",
            "First 20 tags: ['alfredo', 'almond', 'american', 'appetizer', 'appetizers', 'apple', 'asiancuisine', 'asparagus', 'avocado', 'bacon', 'baked', 'bakeddishes', 'bakery', 'baking', 'beans', 'beef', 'bellpeppers', 'berries', 'blackbeans', 'blackvinegar']\n",
            "\n",
            "Processed tags for 100 recipes\n",
            "\n",
            "Features file will have shape: (100, 298)\n",
            "Columns: ['recipe_slug', 'bias', 'alfredo', 'almond', 'american', 'appetizer', 'appetizers', 'apple', 'asiancuisine', 'asparagus'] ... (showing first 10)\n",
            "\n",
            "Recipe order matches between features and ratings: True\n",
            "\n",
            "Saved features.tsv successfully!\n"
          ]
        },
        {
          "name": "stderr",
          "output_type": "stream",
          "text": [
            "/tmp/ipykernel_2011/4016882601.py:43: PerformanceWarning: DataFrame is highly fragmented.  This is usually the result of calling `frame.insert` many times, which has poor performance.  Consider joining all columns at once using pd.concat(axis=1) instead. To get a de-fragmented frame, use `newframe = frame.copy()`\n",
            "  features_df[tag] = features_df['recipe_slug'].apply(\n",
            "/tmp/ipykernel_2011/4016882601.py:43: PerformanceWarning: DataFrame is highly fragmented.  This is usually the result of calling `frame.insert` many times, which has poor performance.  Consider joining all columns at once using pd.concat(axis=1) instead. To get a de-fragmented frame, use `newframe = frame.copy()`\n",
            "  features_df[tag] = features_df['recipe_slug'].apply(\n",
            "/tmp/ipykernel_2011/4016882601.py:43: PerformanceWarning: DataFrame is highly fragmented.  This is usually the result of calling `frame.insert` many times, which has poor performance.  Consider joining all columns at once using pd.concat(axis=1) instead. To get a de-fragmented frame, use `newframe = frame.copy()`\n",
            "  features_df[tag] = features_df['recipe_slug'].apply(\n",
            "/tmp/ipykernel_2011/4016882601.py:43: PerformanceWarning: DataFrame is highly fragmented.  This is usually the result of calling `frame.insert` many times, which has poor performance.  Consider joining all columns at once using pd.concat(axis=1) instead. To get a de-fragmented frame, use `newframe = frame.copy()`\n",
            "  features_df[tag] = features_df['recipe_slug'].apply(\n",
            "/tmp/ipykernel_2011/4016882601.py:43: PerformanceWarning: DataFrame is highly fragmented.  This is usually the result of calling `frame.insert` many times, which has poor performance.  Consider joining all columns at once using pd.concat(axis=1) instead. To get a de-fragmented frame, use `newframe = frame.copy()`\n",
            "  features_df[tag] = features_df['recipe_slug'].apply(\n",
            "/tmp/ipykernel_2011/4016882601.py:43: PerformanceWarning: DataFrame is highly fragmented.  This is usually the result of calling `frame.insert` many times, which has poor performance.  Consider joining all columns at once using pd.concat(axis=1) instead. To get a de-fragmented frame, use `newframe = frame.copy()`\n",
            "  features_df[tag] = features_df['recipe_slug'].apply(\n",
            "/tmp/ipykernel_2011/4016882601.py:43: PerformanceWarning: DataFrame is highly fragmented.  This is usually the result of calling `frame.insert` many times, which has poor performance.  Consider joining all columns at once using pd.concat(axis=1) instead. To get a de-fragmented frame, use `newframe = frame.copy()`\n",
            "  features_df[tag] = features_df['recipe_slug'].apply(\n",
            "/tmp/ipykernel_2011/4016882601.py:43: PerformanceWarning: DataFrame is highly fragmented.  This is usually the result of calling `frame.insert` many times, which has poor performance.  Consider joining all columns at once using pd.concat(axis=1) instead. To get a de-fragmented frame, use `newframe = frame.copy()`\n",
            "  features_df[tag] = features_df['recipe_slug'].apply(\n",
            "/tmp/ipykernel_2011/4016882601.py:43: PerformanceWarning: DataFrame is highly fragmented.  This is usually the result of calling `frame.insert` many times, which has poor performance.  Consider joining all columns at once using pd.concat(axis=1) instead. To get a de-fragmented frame, use `newframe = frame.copy()`\n",
            "  features_df[tag] = features_df['recipe_slug'].apply(\n",
            "/tmp/ipykernel_2011/4016882601.py:43: PerformanceWarning: DataFrame is highly fragmented.  This is usually the result of calling `frame.insert` many times, which has poor performance.  Consider joining all columns at once using pd.concat(axis=1) instead. To get a de-fragmented frame, use `newframe = frame.copy()`\n",
            "  features_df[tag] = features_df['recipe_slug'].apply(\n",
            "/tmp/ipykernel_2011/4016882601.py:43: PerformanceWarning: DataFrame is highly fragmented.  This is usually the result of calling `frame.insert` many times, which has poor performance.  Consider joining all columns at once using pd.concat(axis=1) instead. To get a de-fragmented frame, use `newframe = frame.copy()`\n",
            "  features_df[tag] = features_df['recipe_slug'].apply(\n",
            "/tmp/ipykernel_2011/4016882601.py:43: PerformanceWarning: DataFrame is highly fragmented.  This is usually the result of calling `frame.insert` many times, which has poor performance.  Consider joining all columns at once using pd.concat(axis=1) instead. To get a de-fragmented frame, use `newframe = frame.copy()`\n",
            "  features_df[tag] = features_df['recipe_slug'].apply(\n",
            "/tmp/ipykernel_2011/4016882601.py:43: PerformanceWarning: DataFrame is highly fragmented.  This is usually the result of calling `frame.insert` many times, which has poor performance.  Consider joining all columns at once using pd.concat(axis=1) instead. To get a de-fragmented frame, use `newframe = frame.copy()`\n",
            "  features_df[tag] = features_df['recipe_slug'].apply(\n",
            "/tmp/ipykernel_2011/4016882601.py:43: PerformanceWarning: DataFrame is highly fragmented.  This is usually the result of calling `frame.insert` many times, which has poor performance.  Consider joining all columns at once using pd.concat(axis=1) instead. To get a de-fragmented frame, use `newframe = frame.copy()`\n",
            "  features_df[tag] = features_df['recipe_slug'].apply(\n",
            "/tmp/ipykernel_2011/4016882601.py:43: PerformanceWarning: DataFrame is highly fragmented.  This is usually the result of calling `frame.insert` many times, which has poor performance.  Consider joining all columns at once using pd.concat(axis=1) instead. To get a de-fragmented frame, use `newframe = frame.copy()`\n",
            "  features_df[tag] = features_df['recipe_slug'].apply(\n",
            "/tmp/ipykernel_2011/4016882601.py:43: PerformanceWarning: DataFrame is highly fragmented.  This is usually the result of calling `frame.insert` many times, which has poor performance.  Consider joining all columns at once using pd.concat(axis=1) instead. To get a de-fragmented frame, use `newframe = frame.copy()`\n",
            "  features_df[tag] = features_df['recipe_slug'].apply(\n",
            "/tmp/ipykernel_2011/4016882601.py:43: PerformanceWarning: DataFrame is highly fragmented.  This is usually the result of calling `frame.insert` many times, which has poor performance.  Consider joining all columns at once using pd.concat(axis=1) instead. To get a de-fragmented frame, use `newframe = frame.copy()`\n",
            "  features_df[tag] = features_df['recipe_slug'].apply(\n",
            "/tmp/ipykernel_2011/4016882601.py:43: PerformanceWarning: DataFrame is highly fragmented.  This is usually the result of calling `frame.insert` many times, which has poor performance.  Consider joining all columns at once using pd.concat(axis=1) instead. To get a de-fragmented frame, use `newframe = frame.copy()`\n",
            "  features_df[tag] = features_df['recipe_slug'].apply(\n",
            "/tmp/ipykernel_2011/4016882601.py:43: PerformanceWarning: DataFrame is highly fragmented.  This is usually the result of calling `frame.insert` many times, which has poor performance.  Consider joining all columns at once using pd.concat(axis=1) instead. To get a de-fragmented frame, use `newframe = frame.copy()`\n",
            "  features_df[tag] = features_df['recipe_slug'].apply(\n",
            "/tmp/ipykernel_2011/4016882601.py:43: PerformanceWarning: DataFrame is highly fragmented.  This is usually the result of calling `frame.insert` many times, which has poor performance.  Consider joining all columns at once using pd.concat(axis=1) instead. To get a de-fragmented frame, use `newframe = frame.copy()`\n",
            "  features_df[tag] = features_df['recipe_slug'].apply(\n",
            "/tmp/ipykernel_2011/4016882601.py:43: PerformanceWarning: DataFrame is highly fragmented.  This is usually the result of calling `frame.insert` many times, which has poor performance.  Consider joining all columns at once using pd.concat(axis=1) instead. To get a de-fragmented frame, use `newframe = frame.copy()`\n",
            "  features_df[tag] = features_df['recipe_slug'].apply(\n",
            "/tmp/ipykernel_2011/4016882601.py:43: PerformanceWarning: DataFrame is highly fragmented.  This is usually the result of calling `frame.insert` many times, which has poor performance.  Consider joining all columns at once using pd.concat(axis=1) instead. To get a de-fragmented frame, use `newframe = frame.copy()`\n",
            "  features_df[tag] = features_df['recipe_slug'].apply(\n",
            "/tmp/ipykernel_2011/4016882601.py:43: PerformanceWarning: DataFrame is highly fragmented.  This is usually the result of calling `frame.insert` many times, which has poor performance.  Consider joining all columns at once using pd.concat(axis=1) instead. To get a de-fragmented frame, use `newframe = frame.copy()`\n",
            "  features_df[tag] = features_df['recipe_slug'].apply(\n",
            "/tmp/ipykernel_2011/4016882601.py:43: PerformanceWarning: DataFrame is highly fragmented.  This is usually the result of calling `frame.insert` many times, which has poor performance.  Consider joining all columns at once using pd.concat(axis=1) instead. To get a de-fragmented frame, use `newframe = frame.copy()`\n",
            "  features_df[tag] = features_df['recipe_slug'].apply(\n",
            "/tmp/ipykernel_2011/4016882601.py:43: PerformanceWarning: DataFrame is highly fragmented.  This is usually the result of calling `frame.insert` many times, which has poor performance.  Consider joining all columns at once using pd.concat(axis=1) instead. To get a de-fragmented frame, use `newframe = frame.copy()`\n",
            "  features_df[tag] = features_df['recipe_slug'].apply(\n",
            "/tmp/ipykernel_2011/4016882601.py:43: PerformanceWarning: DataFrame is highly fragmented.  This is usually the result of calling `frame.insert` many times, which has poor performance.  Consider joining all columns at once using pd.concat(axis=1) instead. To get a de-fragmented frame, use `newframe = frame.copy()`\n",
            "  features_df[tag] = features_df['recipe_slug'].apply(\n",
            "/tmp/ipykernel_2011/4016882601.py:43: PerformanceWarning: DataFrame is highly fragmented.  This is usually the result of calling `frame.insert` many times, which has poor performance.  Consider joining all columns at once using pd.concat(axis=1) instead. To get a de-fragmented frame, use `newframe = frame.copy()`\n",
            "  features_df[tag] = features_df['recipe_slug'].apply(\n",
            "/tmp/ipykernel_2011/4016882601.py:43: PerformanceWarning: DataFrame is highly fragmented.  This is usually the result of calling `frame.insert` many times, which has poor performance.  Consider joining all columns at once using pd.concat(axis=1) instead. To get a de-fragmented frame, use `newframe = frame.copy()`\n",
            "  features_df[tag] = features_df['recipe_slug'].apply(\n",
            "/tmp/ipykernel_2011/4016882601.py:43: PerformanceWarning: DataFrame is highly fragmented.  This is usually the result of calling `frame.insert` many times, which has poor performance.  Consider joining all columns at once using pd.concat(axis=1) instead. To get a de-fragmented frame, use `newframe = frame.copy()`\n",
            "  features_df[tag] = features_df['recipe_slug'].apply(\n",
            "/tmp/ipykernel_2011/4016882601.py:43: PerformanceWarning: DataFrame is highly fragmented.  This is usually the result of calling `frame.insert` many times, which has poor performance.  Consider joining all columns at once using pd.concat(axis=1) instead. To get a de-fragmented frame, use `newframe = frame.copy()`\n",
            "  features_df[tag] = features_df['recipe_slug'].apply(\n",
            "/tmp/ipykernel_2011/4016882601.py:43: PerformanceWarning: DataFrame is highly fragmented.  This is usually the result of calling `frame.insert` many times, which has poor performance.  Consider joining all columns at once using pd.concat(axis=1) instead. To get a de-fragmented frame, use `newframe = frame.copy()`\n",
            "  features_df[tag] = features_df['recipe_slug'].apply(\n",
            "/tmp/ipykernel_2011/4016882601.py:43: PerformanceWarning: DataFrame is highly fragmented.  This is usually the result of calling `frame.insert` many times, which has poor performance.  Consider joining all columns at once using pd.concat(axis=1) instead. To get a de-fragmented frame, use `newframe = frame.copy()`\n",
            "  features_df[tag] = features_df['recipe_slug'].apply(\n",
            "/tmp/ipykernel_2011/4016882601.py:43: PerformanceWarning: DataFrame is highly fragmented.  This is usually the result of calling `frame.insert` many times, which has poor performance.  Consider joining all columns at once using pd.concat(axis=1) instead. To get a de-fragmented frame, use `newframe = frame.copy()`\n",
            "  features_df[tag] = features_df['recipe_slug'].apply(\n",
            "/tmp/ipykernel_2011/4016882601.py:43: PerformanceWarning: DataFrame is highly fragmented.  This is usually the result of calling `frame.insert` many times, which has poor performance.  Consider joining all columns at once using pd.concat(axis=1) instead. To get a de-fragmented frame, use `newframe = frame.copy()`\n",
            "  features_df[tag] = features_df['recipe_slug'].apply(\n",
            "/tmp/ipykernel_2011/4016882601.py:43: PerformanceWarning: DataFrame is highly fragmented.  This is usually the result of calling `frame.insert` many times, which has poor performance.  Consider joining all columns at once using pd.concat(axis=1) instead. To get a de-fragmented frame, use `newframe = frame.copy()`\n",
            "  features_df[tag] = features_df['recipe_slug'].apply(\n",
            "/tmp/ipykernel_2011/4016882601.py:43: PerformanceWarning: DataFrame is highly fragmented.  This is usually the result of calling `frame.insert` many times, which has poor performance.  Consider joining all columns at once using pd.concat(axis=1) instead. To get a de-fragmented frame, use `newframe = frame.copy()`\n",
            "  features_df[tag] = features_df['recipe_slug'].apply(\n",
            "/tmp/ipykernel_2011/4016882601.py:43: PerformanceWarning: DataFrame is highly fragmented.  This is usually the result of calling `frame.insert` many times, which has poor performance.  Consider joining all columns at once using pd.concat(axis=1) instead. To get a de-fragmented frame, use `newframe = frame.copy()`\n",
            "  features_df[tag] = features_df['recipe_slug'].apply(\n",
            "/tmp/ipykernel_2011/4016882601.py:43: PerformanceWarning: DataFrame is highly fragmented.  This is usually the result of calling `frame.insert` many times, which has poor performance.  Consider joining all columns at once using pd.concat(axis=1) instead. To get a de-fragmented frame, use `newframe = frame.copy()`\n",
            "  features_df[tag] = features_df['recipe_slug'].apply(\n",
            "/tmp/ipykernel_2011/4016882601.py:43: PerformanceWarning: DataFrame is highly fragmented.  This is usually the result of calling `frame.insert` many times, which has poor performance.  Consider joining all columns at once using pd.concat(axis=1) instead. To get a de-fragmented frame, use `newframe = frame.copy()`\n",
            "  features_df[tag] = features_df['recipe_slug'].apply(\n",
            "/tmp/ipykernel_2011/4016882601.py:43: PerformanceWarning: DataFrame is highly fragmented.  This is usually the result of calling `frame.insert` many times, which has poor performance.  Consider joining all columns at once using pd.concat(axis=1) instead. To get a de-fragmented frame, use `newframe = frame.copy()`\n",
            "  features_df[tag] = features_df['recipe_slug'].apply(\n",
            "/tmp/ipykernel_2011/4016882601.py:43: PerformanceWarning: DataFrame is highly fragmented.  This is usually the result of calling `frame.insert` many times, which has poor performance.  Consider joining all columns at once using pd.concat(axis=1) instead. To get a de-fragmented frame, use `newframe = frame.copy()`\n",
            "  features_df[tag] = features_df['recipe_slug'].apply(\n",
            "/tmp/ipykernel_2011/4016882601.py:43: PerformanceWarning: DataFrame is highly fragmented.  This is usually the result of calling `frame.insert` many times, which has poor performance.  Consider joining all columns at once using pd.concat(axis=1) instead. To get a de-fragmented frame, use `newframe = frame.copy()`\n",
            "  features_df[tag] = features_df['recipe_slug'].apply(\n",
            "/tmp/ipykernel_2011/4016882601.py:43: PerformanceWarning: DataFrame is highly fragmented.  This is usually the result of calling `frame.insert` many times, which has poor performance.  Consider joining all columns at once using pd.concat(axis=1) instead. To get a de-fragmented frame, use `newframe = frame.copy()`\n",
            "  features_df[tag] = features_df['recipe_slug'].apply(\n",
            "/tmp/ipykernel_2011/4016882601.py:43: PerformanceWarning: DataFrame is highly fragmented.  This is usually the result of calling `frame.insert` many times, which has poor performance.  Consider joining all columns at once using pd.concat(axis=1) instead. To get a de-fragmented frame, use `newframe = frame.copy()`\n",
            "  features_df[tag] = features_df['recipe_slug'].apply(\n",
            "/tmp/ipykernel_2011/4016882601.py:43: PerformanceWarning: DataFrame is highly fragmented.  This is usually the result of calling `frame.insert` many times, which has poor performance.  Consider joining all columns at once using pd.concat(axis=1) instead. To get a de-fragmented frame, use `newframe = frame.copy()`\n",
            "  features_df[tag] = features_df['recipe_slug'].apply(\n",
            "/tmp/ipykernel_2011/4016882601.py:43: PerformanceWarning: DataFrame is highly fragmented.  This is usually the result of calling `frame.insert` many times, which has poor performance.  Consider joining all columns at once using pd.concat(axis=1) instead. To get a de-fragmented frame, use `newframe = frame.copy()`\n",
            "  features_df[tag] = features_df['recipe_slug'].apply(\n",
            "/tmp/ipykernel_2011/4016882601.py:43: PerformanceWarning: DataFrame is highly fragmented.  This is usually the result of calling `frame.insert` many times, which has poor performance.  Consider joining all columns at once using pd.concat(axis=1) instead. To get a de-fragmented frame, use `newframe = frame.copy()`\n",
            "  features_df[tag] = features_df['recipe_slug'].apply(\n",
            "/tmp/ipykernel_2011/4016882601.py:43: PerformanceWarning: DataFrame is highly fragmented.  This is usually the result of calling `frame.insert` many times, which has poor performance.  Consider joining all columns at once using pd.concat(axis=1) instead. To get a de-fragmented frame, use `newframe = frame.copy()`\n",
            "  features_df[tag] = features_df['recipe_slug'].apply(\n",
            "/tmp/ipykernel_2011/4016882601.py:43: PerformanceWarning: DataFrame is highly fragmented.  This is usually the result of calling `frame.insert` many times, which has poor performance.  Consider joining all columns at once using pd.concat(axis=1) instead. To get a de-fragmented frame, use `newframe = frame.copy()`\n",
            "  features_df[tag] = features_df['recipe_slug'].apply(\n",
            "/tmp/ipykernel_2011/4016882601.py:43: PerformanceWarning: DataFrame is highly fragmented.  This is usually the result of calling `frame.insert` many times, which has poor performance.  Consider joining all columns at once using pd.concat(axis=1) instead. To get a de-fragmented frame, use `newframe = frame.copy()`\n",
            "  features_df[tag] = features_df['recipe_slug'].apply(\n",
            "/tmp/ipykernel_2011/4016882601.py:43: PerformanceWarning: DataFrame is highly fragmented.  This is usually the result of calling `frame.insert` many times, which has poor performance.  Consider joining all columns at once using pd.concat(axis=1) instead. To get a de-fragmented frame, use `newframe = frame.copy()`\n",
            "  features_df[tag] = features_df['recipe_slug'].apply(\n",
            "/tmp/ipykernel_2011/4016882601.py:43: PerformanceWarning: DataFrame is highly fragmented.  This is usually the result of calling `frame.insert` many times, which has poor performance.  Consider joining all columns at once using pd.concat(axis=1) instead. To get a de-fragmented frame, use `newframe = frame.copy()`\n",
            "  features_df[tag] = features_df['recipe_slug'].apply(\n",
            "/tmp/ipykernel_2011/4016882601.py:43: PerformanceWarning: DataFrame is highly fragmented.  This is usually the result of calling `frame.insert` many times, which has poor performance.  Consider joining all columns at once using pd.concat(axis=1) instead. To get a de-fragmented frame, use `newframe = frame.copy()`\n",
            "  features_df[tag] = features_df['recipe_slug'].apply(\n",
            "/tmp/ipykernel_2011/4016882601.py:43: PerformanceWarning: DataFrame is highly fragmented.  This is usually the result of calling `frame.insert` many times, which has poor performance.  Consider joining all columns at once using pd.concat(axis=1) instead. To get a de-fragmented frame, use `newframe = frame.copy()`\n",
            "  features_df[tag] = features_df['recipe_slug'].apply(\n",
            "/tmp/ipykernel_2011/4016882601.py:43: PerformanceWarning: DataFrame is highly fragmented.  This is usually the result of calling `frame.insert` many times, which has poor performance.  Consider joining all columns at once using pd.concat(axis=1) instead. To get a de-fragmented frame, use `newframe = frame.copy()`\n",
            "  features_df[tag] = features_df['recipe_slug'].apply(\n",
            "/tmp/ipykernel_2011/4016882601.py:43: PerformanceWarning: DataFrame is highly fragmented.  This is usually the result of calling `frame.insert` many times, which has poor performance.  Consider joining all columns at once using pd.concat(axis=1) instead. To get a de-fragmented frame, use `newframe = frame.copy()`\n",
            "  features_df[tag] = features_df['recipe_slug'].apply(\n",
            "/tmp/ipykernel_2011/4016882601.py:43: PerformanceWarning: DataFrame is highly fragmented.  This is usually the result of calling `frame.insert` many times, which has poor performance.  Consider joining all columns at once using pd.concat(axis=1) instead. To get a de-fragmented frame, use `newframe = frame.copy()`\n",
            "  features_df[tag] = features_df['recipe_slug'].apply(\n",
            "/tmp/ipykernel_2011/4016882601.py:43: PerformanceWarning: DataFrame is highly fragmented.  This is usually the result of calling `frame.insert` many times, which has poor performance.  Consider joining all columns at once using pd.concat(axis=1) instead. To get a de-fragmented frame, use `newframe = frame.copy()`\n",
            "  features_df[tag] = features_df['recipe_slug'].apply(\n",
            "/tmp/ipykernel_2011/4016882601.py:43: PerformanceWarning: DataFrame is highly fragmented.  This is usually the result of calling `frame.insert` many times, which has poor performance.  Consider joining all columns at once using pd.concat(axis=1) instead. To get a de-fragmented frame, use `newframe = frame.copy()`\n",
            "  features_df[tag] = features_df['recipe_slug'].apply(\n",
            "/tmp/ipykernel_2011/4016882601.py:43: PerformanceWarning: DataFrame is highly fragmented.  This is usually the result of calling `frame.insert` many times, which has poor performance.  Consider joining all columns at once using pd.concat(axis=1) instead. To get a de-fragmented frame, use `newframe = frame.copy()`\n",
            "  features_df[tag] = features_df['recipe_slug'].apply(\n",
            "/tmp/ipykernel_2011/4016882601.py:43: PerformanceWarning: DataFrame is highly fragmented.  This is usually the result of calling `frame.insert` many times, which has poor performance.  Consider joining all columns at once using pd.concat(axis=1) instead. To get a de-fragmented frame, use `newframe = frame.copy()`\n",
            "  features_df[tag] = features_df['recipe_slug'].apply(\n",
            "/tmp/ipykernel_2011/4016882601.py:43: PerformanceWarning: DataFrame is highly fragmented.  This is usually the result of calling `frame.insert` many times, which has poor performance.  Consider joining all columns at once using pd.concat(axis=1) instead. To get a de-fragmented frame, use `newframe = frame.copy()`\n",
            "  features_df[tag] = features_df['recipe_slug'].apply(\n",
            "/tmp/ipykernel_2011/4016882601.py:43: PerformanceWarning: DataFrame is highly fragmented.  This is usually the result of calling `frame.insert` many times, which has poor performance.  Consider joining all columns at once using pd.concat(axis=1) instead. To get a de-fragmented frame, use `newframe = frame.copy()`\n",
            "  features_df[tag] = features_df['recipe_slug'].apply(\n",
            "/tmp/ipykernel_2011/4016882601.py:43: PerformanceWarning: DataFrame is highly fragmented.  This is usually the result of calling `frame.insert` many times, which has poor performance.  Consider joining all columns at once using pd.concat(axis=1) instead. To get a de-fragmented frame, use `newframe = frame.copy()`\n",
            "  features_df[tag] = features_df['recipe_slug'].apply(\n",
            "/tmp/ipykernel_2011/4016882601.py:43: PerformanceWarning: DataFrame is highly fragmented.  This is usually the result of calling `frame.insert` many times, which has poor performance.  Consider joining all columns at once using pd.concat(axis=1) instead. To get a de-fragmented frame, use `newframe = frame.copy()`\n",
            "  features_df[tag] = features_df['recipe_slug'].apply(\n",
            "/tmp/ipykernel_2011/4016882601.py:43: PerformanceWarning: DataFrame is highly fragmented.  This is usually the result of calling `frame.insert` many times, which has poor performance.  Consider joining all columns at once using pd.concat(axis=1) instead. To get a de-fragmented frame, use `newframe = frame.copy()`\n",
            "  features_df[tag] = features_df['recipe_slug'].apply(\n",
            "/tmp/ipykernel_2011/4016882601.py:43: PerformanceWarning: DataFrame is highly fragmented.  This is usually the result of calling `frame.insert` many times, which has poor performance.  Consider joining all columns at once using pd.concat(axis=1) instead. To get a de-fragmented frame, use `newframe = frame.copy()`\n",
            "  features_df[tag] = features_df['recipe_slug'].apply(\n",
            "/tmp/ipykernel_2011/4016882601.py:43: PerformanceWarning: DataFrame is highly fragmented.  This is usually the result of calling `frame.insert` many times, which has poor performance.  Consider joining all columns at once using pd.concat(axis=1) instead. To get a de-fragmented frame, use `newframe = frame.copy()`\n",
            "  features_df[tag] = features_df['recipe_slug'].apply(\n",
            "/tmp/ipykernel_2011/4016882601.py:43: PerformanceWarning: DataFrame is highly fragmented.  This is usually the result of calling `frame.insert` many times, which has poor performance.  Consider joining all columns at once using pd.concat(axis=1) instead. To get a de-fragmented frame, use `newframe = frame.copy()`\n",
            "  features_df[tag] = features_df['recipe_slug'].apply(\n",
            "/tmp/ipykernel_2011/4016882601.py:43: PerformanceWarning: DataFrame is highly fragmented.  This is usually the result of calling `frame.insert` many times, which has poor performance.  Consider joining all columns at once using pd.concat(axis=1) instead. To get a de-fragmented frame, use `newframe = frame.copy()`\n",
            "  features_df[tag] = features_df['recipe_slug'].apply(\n",
            "/tmp/ipykernel_2011/4016882601.py:43: PerformanceWarning: DataFrame is highly fragmented.  This is usually the result of calling `frame.insert` many times, which has poor performance.  Consider joining all columns at once using pd.concat(axis=1) instead. To get a de-fragmented frame, use `newframe = frame.copy()`\n",
            "  features_df[tag] = features_df['recipe_slug'].apply(\n",
            "/tmp/ipykernel_2011/4016882601.py:43: PerformanceWarning: DataFrame is highly fragmented.  This is usually the result of calling `frame.insert` many times, which has poor performance.  Consider joining all columns at once using pd.concat(axis=1) instead. To get a de-fragmented frame, use `newframe = frame.copy()`\n",
            "  features_df[tag] = features_df['recipe_slug'].apply(\n",
            "/tmp/ipykernel_2011/4016882601.py:43: PerformanceWarning: DataFrame is highly fragmented.  This is usually the result of calling `frame.insert` many times, which has poor performance.  Consider joining all columns at once using pd.concat(axis=1) instead. To get a de-fragmented frame, use `newframe = frame.copy()`\n",
            "  features_df[tag] = features_df['recipe_slug'].apply(\n",
            "/tmp/ipykernel_2011/4016882601.py:43: PerformanceWarning: DataFrame is highly fragmented.  This is usually the result of calling `frame.insert` many times, which has poor performance.  Consider joining all columns at once using pd.concat(axis=1) instead. To get a de-fragmented frame, use `newframe = frame.copy()`\n",
            "  features_df[tag] = features_df['recipe_slug'].apply(\n",
            "/tmp/ipykernel_2011/4016882601.py:43: PerformanceWarning: DataFrame is highly fragmented.  This is usually the result of calling `frame.insert` many times, which has poor performance.  Consider joining all columns at once using pd.concat(axis=1) instead. To get a de-fragmented frame, use `newframe = frame.copy()`\n",
            "  features_df[tag] = features_df['recipe_slug'].apply(\n",
            "/tmp/ipykernel_2011/4016882601.py:43: PerformanceWarning: DataFrame is highly fragmented.  This is usually the result of calling `frame.insert` many times, which has poor performance.  Consider joining all columns at once using pd.concat(axis=1) instead. To get a de-fragmented frame, use `newframe = frame.copy()`\n",
            "  features_df[tag] = features_df['recipe_slug'].apply(\n",
            "/tmp/ipykernel_2011/4016882601.py:43: PerformanceWarning: DataFrame is highly fragmented.  This is usually the result of calling `frame.insert` many times, which has poor performance.  Consider joining all columns at once using pd.concat(axis=1) instead. To get a de-fragmented frame, use `newframe = frame.copy()`\n",
            "  features_df[tag] = features_df['recipe_slug'].apply(\n",
            "/tmp/ipykernel_2011/4016882601.py:43: PerformanceWarning: DataFrame is highly fragmented.  This is usually the result of calling `frame.insert` many times, which has poor performance.  Consider joining all columns at once using pd.concat(axis=1) instead. To get a de-fragmented frame, use `newframe = frame.copy()`\n",
            "  features_df[tag] = features_df['recipe_slug'].apply(\n",
            "/tmp/ipykernel_2011/4016882601.py:43: PerformanceWarning: DataFrame is highly fragmented.  This is usually the result of calling `frame.insert` many times, which has poor performance.  Consider joining all columns at once using pd.concat(axis=1) instead. To get a de-fragmented frame, use `newframe = frame.copy()`\n",
            "  features_df[tag] = features_df['recipe_slug'].apply(\n",
            "/tmp/ipykernel_2011/4016882601.py:43: PerformanceWarning: DataFrame is highly fragmented.  This is usually the result of calling `frame.insert` many times, which has poor performance.  Consider joining all columns at once using pd.concat(axis=1) instead. To get a de-fragmented frame, use `newframe = frame.copy()`\n",
            "  features_df[tag] = features_df['recipe_slug'].apply(\n",
            "/tmp/ipykernel_2011/4016882601.py:43: PerformanceWarning: DataFrame is highly fragmented.  This is usually the result of calling `frame.insert` many times, which has poor performance.  Consider joining all columns at once using pd.concat(axis=1) instead. To get a de-fragmented frame, use `newframe = frame.copy()`\n",
            "  features_df[tag] = features_df['recipe_slug'].apply(\n",
            "/tmp/ipykernel_2011/4016882601.py:43: PerformanceWarning: DataFrame is highly fragmented.  This is usually the result of calling `frame.insert` many times, which has poor performance.  Consider joining all columns at once using pd.concat(axis=1) instead. To get a de-fragmented frame, use `newframe = frame.copy()`\n",
            "  features_df[tag] = features_df['recipe_slug'].apply(\n",
            "/tmp/ipykernel_2011/4016882601.py:43: PerformanceWarning: DataFrame is highly fragmented.  This is usually the result of calling `frame.insert` many times, which has poor performance.  Consider joining all columns at once using pd.concat(axis=1) instead. To get a de-fragmented frame, use `newframe = frame.copy()`\n",
            "  features_df[tag] = features_df['recipe_slug'].apply(\n",
            "/tmp/ipykernel_2011/4016882601.py:43: PerformanceWarning: DataFrame is highly fragmented.  This is usually the result of calling `frame.insert` many times, which has poor performance.  Consider joining all columns at once using pd.concat(axis=1) instead. To get a de-fragmented frame, use `newframe = frame.copy()`\n",
            "  features_df[tag] = features_df['recipe_slug'].apply(\n",
            "/tmp/ipykernel_2011/4016882601.py:43: PerformanceWarning: DataFrame is highly fragmented.  This is usually the result of calling `frame.insert` many times, which has poor performance.  Consider joining all columns at once using pd.concat(axis=1) instead. To get a de-fragmented frame, use `newframe = frame.copy()`\n",
            "  features_df[tag] = features_df['recipe_slug'].apply(\n",
            "/tmp/ipykernel_2011/4016882601.py:43: PerformanceWarning: DataFrame is highly fragmented.  This is usually the result of calling `frame.insert` many times, which has poor performance.  Consider joining all columns at once using pd.concat(axis=1) instead. To get a de-fragmented frame, use `newframe = frame.copy()`\n",
            "  features_df[tag] = features_df['recipe_slug'].apply(\n",
            "/tmp/ipykernel_2011/4016882601.py:43: PerformanceWarning: DataFrame is highly fragmented.  This is usually the result of calling `frame.insert` many times, which has poor performance.  Consider joining all columns at once using pd.concat(axis=1) instead. To get a de-fragmented frame, use `newframe = frame.copy()`\n",
            "  features_df[tag] = features_df['recipe_slug'].apply(\n",
            "/tmp/ipykernel_2011/4016882601.py:43: PerformanceWarning: DataFrame is highly fragmented.  This is usually the result of calling `frame.insert` many times, which has poor performance.  Consider joining all columns at once using pd.concat(axis=1) instead. To get a de-fragmented frame, use `newframe = frame.copy()`\n",
            "  features_df[tag] = features_df['recipe_slug'].apply(\n",
            "/tmp/ipykernel_2011/4016882601.py:43: PerformanceWarning: DataFrame is highly fragmented.  This is usually the result of calling `frame.insert` many times, which has poor performance.  Consider joining all columns at once using pd.concat(axis=1) instead. To get a de-fragmented frame, use `newframe = frame.copy()`\n",
            "  features_df[tag] = features_df['recipe_slug'].apply(\n",
            "/tmp/ipykernel_2011/4016882601.py:43: PerformanceWarning: DataFrame is highly fragmented.  This is usually the result of calling `frame.insert` many times, which has poor performance.  Consider joining all columns at once using pd.concat(axis=1) instead. To get a de-fragmented frame, use `newframe = frame.copy()`\n",
            "  features_df[tag] = features_df['recipe_slug'].apply(\n",
            "/tmp/ipykernel_2011/4016882601.py:43: PerformanceWarning: DataFrame is highly fragmented.  This is usually the result of calling `frame.insert` many times, which has poor performance.  Consider joining all columns at once using pd.concat(axis=1) instead. To get a de-fragmented frame, use `newframe = frame.copy()`\n",
            "  features_df[tag] = features_df['recipe_slug'].apply(\n",
            "/tmp/ipykernel_2011/4016882601.py:43: PerformanceWarning: DataFrame is highly fragmented.  This is usually the result of calling `frame.insert` many times, which has poor performance.  Consider joining all columns at once using pd.concat(axis=1) instead. To get a de-fragmented frame, use `newframe = frame.copy()`\n",
            "  features_df[tag] = features_df['recipe_slug'].apply(\n",
            "/tmp/ipykernel_2011/4016882601.py:43: PerformanceWarning: DataFrame is highly fragmented.  This is usually the result of calling `frame.insert` many times, which has poor performance.  Consider joining all columns at once using pd.concat(axis=1) instead. To get a de-fragmented frame, use `newframe = frame.copy()`\n",
            "  features_df[tag] = features_df['recipe_slug'].apply(\n",
            "/tmp/ipykernel_2011/4016882601.py:43: PerformanceWarning: DataFrame is highly fragmented.  This is usually the result of calling `frame.insert` many times, which has poor performance.  Consider joining all columns at once using pd.concat(axis=1) instead. To get a de-fragmented frame, use `newframe = frame.copy()`\n",
            "  features_df[tag] = features_df['recipe_slug'].apply(\n",
            "/tmp/ipykernel_2011/4016882601.py:43: PerformanceWarning: DataFrame is highly fragmented.  This is usually the result of calling `frame.insert` many times, which has poor performance.  Consider joining all columns at once using pd.concat(axis=1) instead. To get a de-fragmented frame, use `newframe = frame.copy()`\n",
            "  features_df[tag] = features_df['recipe_slug'].apply(\n",
            "/tmp/ipykernel_2011/4016882601.py:43: PerformanceWarning: DataFrame is highly fragmented.  This is usually the result of calling `frame.insert` many times, which has poor performance.  Consider joining all columns at once using pd.concat(axis=1) instead. To get a de-fragmented frame, use `newframe = frame.copy()`\n",
            "  features_df[tag] = features_df['recipe_slug'].apply(\n",
            "/tmp/ipykernel_2011/4016882601.py:43: PerformanceWarning: DataFrame is highly fragmented.  This is usually the result of calling `frame.insert` many times, which has poor performance.  Consider joining all columns at once using pd.concat(axis=1) instead. To get a de-fragmented frame, use `newframe = frame.copy()`\n",
            "  features_df[tag] = features_df['recipe_slug'].apply(\n",
            "/tmp/ipykernel_2011/4016882601.py:43: PerformanceWarning: DataFrame is highly fragmented.  This is usually the result of calling `frame.insert` many times, which has poor performance.  Consider joining all columns at once using pd.concat(axis=1) instead. To get a de-fragmented frame, use `newframe = frame.copy()`\n",
            "  features_df[tag] = features_df['recipe_slug'].apply(\n",
            "/tmp/ipykernel_2011/4016882601.py:43: PerformanceWarning: DataFrame is highly fragmented.  This is usually the result of calling `frame.insert` many times, which has poor performance.  Consider joining all columns at once using pd.concat(axis=1) instead. To get a de-fragmented frame, use `newframe = frame.copy()`\n",
            "  features_df[tag] = features_df['recipe_slug'].apply(\n",
            "/tmp/ipykernel_2011/4016882601.py:43: PerformanceWarning: DataFrame is highly fragmented.  This is usually the result of calling `frame.insert` many times, which has poor performance.  Consider joining all columns at once using pd.concat(axis=1) instead. To get a de-fragmented frame, use `newframe = frame.copy()`\n",
            "  features_df[tag] = features_df['recipe_slug'].apply(\n",
            "/tmp/ipykernel_2011/4016882601.py:43: PerformanceWarning: DataFrame is highly fragmented.  This is usually the result of calling `frame.insert` many times, which has poor performance.  Consider joining all columns at once using pd.concat(axis=1) instead. To get a de-fragmented frame, use `newframe = frame.copy()`\n",
            "  features_df[tag] = features_df['recipe_slug'].apply(\n",
            "/tmp/ipykernel_2011/4016882601.py:43: PerformanceWarning: DataFrame is highly fragmented.  This is usually the result of calling `frame.insert` many times, which has poor performance.  Consider joining all columns at once using pd.concat(axis=1) instead. To get a de-fragmented frame, use `newframe = frame.copy()`\n",
            "  features_df[tag] = features_df['recipe_slug'].apply(\n",
            "/tmp/ipykernel_2011/4016882601.py:43: PerformanceWarning: DataFrame is highly fragmented.  This is usually the result of calling `frame.insert` many times, which has poor performance.  Consider joining all columns at once using pd.concat(axis=1) instead. To get a de-fragmented frame, use `newframe = frame.copy()`\n",
            "  features_df[tag] = features_df['recipe_slug'].apply(\n",
            "/tmp/ipykernel_2011/4016882601.py:43: PerformanceWarning: DataFrame is highly fragmented.  This is usually the result of calling `frame.insert` many times, which has poor performance.  Consider joining all columns at once using pd.concat(axis=1) instead. To get a de-fragmented frame, use `newframe = frame.copy()`\n",
            "  features_df[tag] = features_df['recipe_slug'].apply(\n",
            "/tmp/ipykernel_2011/4016882601.py:43: PerformanceWarning: DataFrame is highly fragmented.  This is usually the result of calling `frame.insert` many times, which has poor performance.  Consider joining all columns at once using pd.concat(axis=1) instead. To get a de-fragmented frame, use `newframe = frame.copy()`\n",
            "  features_df[tag] = features_df['recipe_slug'].apply(\n",
            "/tmp/ipykernel_2011/4016882601.py:43: PerformanceWarning: DataFrame is highly fragmented.  This is usually the result of calling `frame.insert` many times, which has poor performance.  Consider joining all columns at once using pd.concat(axis=1) instead. To get a de-fragmented frame, use `newframe = frame.copy()`\n",
            "  features_df[tag] = features_df['recipe_slug'].apply(\n",
            "/tmp/ipykernel_2011/4016882601.py:43: PerformanceWarning: DataFrame is highly fragmented.  This is usually the result of calling `frame.insert` many times, which has poor performance.  Consider joining all columns at once using pd.concat(axis=1) instead. To get a de-fragmented frame, use `newframe = frame.copy()`\n",
            "  features_df[tag] = features_df['recipe_slug'].apply(\n",
            "/tmp/ipykernel_2011/4016882601.py:43: PerformanceWarning: DataFrame is highly fragmented.  This is usually the result of calling `frame.insert` many times, which has poor performance.  Consider joining all columns at once using pd.concat(axis=1) instead. To get a de-fragmented frame, use `newframe = frame.copy()`\n",
            "  features_df[tag] = features_df['recipe_slug'].apply(\n",
            "/tmp/ipykernel_2011/4016882601.py:43: PerformanceWarning: DataFrame is highly fragmented.  This is usually the result of calling `frame.insert` many times, which has poor performance.  Consider joining all columns at once using pd.concat(axis=1) instead. To get a de-fragmented frame, use `newframe = frame.copy()`\n",
            "  features_df[tag] = features_df['recipe_slug'].apply(\n",
            "/tmp/ipykernel_2011/4016882601.py:43: PerformanceWarning: DataFrame is highly fragmented.  This is usually the result of calling `frame.insert` many times, which has poor performance.  Consider joining all columns at once using pd.concat(axis=1) instead. To get a de-fragmented frame, use `newframe = frame.copy()`\n",
            "  features_df[tag] = features_df['recipe_slug'].apply(\n",
            "/tmp/ipykernel_2011/4016882601.py:43: PerformanceWarning: DataFrame is highly fragmented.  This is usually the result of calling `frame.insert` many times, which has poor performance.  Consider joining all columns at once using pd.concat(axis=1) instead. To get a de-fragmented frame, use `newframe = frame.copy()`\n",
            "  features_df[tag] = features_df['recipe_slug'].apply(\n",
            "/tmp/ipykernel_2011/4016882601.py:43: PerformanceWarning: DataFrame is highly fragmented.  This is usually the result of calling `frame.insert` many times, which has poor performance.  Consider joining all columns at once using pd.concat(axis=1) instead. To get a de-fragmented frame, use `newframe = frame.copy()`\n",
            "  features_df[tag] = features_df['recipe_slug'].apply(\n",
            "/tmp/ipykernel_2011/4016882601.py:43: PerformanceWarning: DataFrame is highly fragmented.  This is usually the result of calling `frame.insert` many times, which has poor performance.  Consider joining all columns at once using pd.concat(axis=1) instead. To get a de-fragmented frame, use `newframe = frame.copy()`\n",
            "  features_df[tag] = features_df['recipe_slug'].apply(\n",
            "/tmp/ipykernel_2011/4016882601.py:43: PerformanceWarning: DataFrame is highly fragmented.  This is usually the result of calling `frame.insert` many times, which has poor performance.  Consider joining all columns at once using pd.concat(axis=1) instead. To get a de-fragmented frame, use `newframe = frame.copy()`\n",
            "  features_df[tag] = features_df['recipe_slug'].apply(\n",
            "/tmp/ipykernel_2011/4016882601.py:43: PerformanceWarning: DataFrame is highly fragmented.  This is usually the result of calling `frame.insert` many times, which has poor performance.  Consider joining all columns at once using pd.concat(axis=1) instead. To get a de-fragmented frame, use `newframe = frame.copy()`\n",
            "  features_df[tag] = features_df['recipe_slug'].apply(\n",
            "/tmp/ipykernel_2011/4016882601.py:43: PerformanceWarning: DataFrame is highly fragmented.  This is usually the result of calling `frame.insert` many times, which has poor performance.  Consider joining all columns at once using pd.concat(axis=1) instead. To get a de-fragmented frame, use `newframe = frame.copy()`\n",
            "  features_df[tag] = features_df['recipe_slug'].apply(\n",
            "/tmp/ipykernel_2011/4016882601.py:43: PerformanceWarning: DataFrame is highly fragmented.  This is usually the result of calling `frame.insert` many times, which has poor performance.  Consider joining all columns at once using pd.concat(axis=1) instead. To get a de-fragmented frame, use `newframe = frame.copy()`\n",
            "  features_df[tag] = features_df['recipe_slug'].apply(\n",
            "/tmp/ipykernel_2011/4016882601.py:43: PerformanceWarning: DataFrame is highly fragmented.  This is usually the result of calling `frame.insert` many times, which has poor performance.  Consider joining all columns at once using pd.concat(axis=1) instead. To get a de-fragmented frame, use `newframe = frame.copy()`\n",
            "  features_df[tag] = features_df['recipe_slug'].apply(\n",
            "/tmp/ipykernel_2011/4016882601.py:43: PerformanceWarning: DataFrame is highly fragmented.  This is usually the result of calling `frame.insert` many times, which has poor performance.  Consider joining all columns at once using pd.concat(axis=1) instead. To get a de-fragmented frame, use `newframe = frame.copy()`\n",
            "  features_df[tag] = features_df['recipe_slug'].apply(\n",
            "/tmp/ipykernel_2011/4016882601.py:43: PerformanceWarning: DataFrame is highly fragmented.  This is usually the result of calling `frame.insert` many times, which has poor performance.  Consider joining all columns at once using pd.concat(axis=1) instead. To get a de-fragmented frame, use `newframe = frame.copy()`\n",
            "  features_df[tag] = features_df['recipe_slug'].apply(\n",
            "/tmp/ipykernel_2011/4016882601.py:43: PerformanceWarning: DataFrame is highly fragmented.  This is usually the result of calling `frame.insert` many times, which has poor performance.  Consider joining all columns at once using pd.concat(axis=1) instead. To get a de-fragmented frame, use `newframe = frame.copy()`\n",
            "  features_df[tag] = features_df['recipe_slug'].apply(\n",
            "/tmp/ipykernel_2011/4016882601.py:43: PerformanceWarning: DataFrame is highly fragmented.  This is usually the result of calling `frame.insert` many times, which has poor performance.  Consider joining all columns at once using pd.concat(axis=1) instead. To get a de-fragmented frame, use `newframe = frame.copy()`\n",
            "  features_df[tag] = features_df['recipe_slug'].apply(\n",
            "/tmp/ipykernel_2011/4016882601.py:43: PerformanceWarning: DataFrame is highly fragmented.  This is usually the result of calling `frame.insert` many times, which has poor performance.  Consider joining all columns at once using pd.concat(axis=1) instead. To get a de-fragmented frame, use `newframe = frame.copy()`\n",
            "  features_df[tag] = features_df['recipe_slug'].apply(\n",
            "/tmp/ipykernel_2011/4016882601.py:43: PerformanceWarning: DataFrame is highly fragmented.  This is usually the result of calling `frame.insert` many times, which has poor performance.  Consider joining all columns at once using pd.concat(axis=1) instead. To get a de-fragmented frame, use `newframe = frame.copy()`\n",
            "  features_df[tag] = features_df['recipe_slug'].apply(\n",
            "/tmp/ipykernel_2011/4016882601.py:43: PerformanceWarning: DataFrame is highly fragmented.  This is usually the result of calling `frame.insert` many times, which has poor performance.  Consider joining all columns at once using pd.concat(axis=1) instead. To get a de-fragmented frame, use `newframe = frame.copy()`\n",
            "  features_df[tag] = features_df['recipe_slug'].apply(\n",
            "/tmp/ipykernel_2011/4016882601.py:43: PerformanceWarning: DataFrame is highly fragmented.  This is usually the result of calling `frame.insert` many times, which has poor performance.  Consider joining all columns at once using pd.concat(axis=1) instead. To get a de-fragmented frame, use `newframe = frame.copy()`\n",
            "  features_df[tag] = features_df['recipe_slug'].apply(\n",
            "/tmp/ipykernel_2011/4016882601.py:43: PerformanceWarning: DataFrame is highly fragmented.  This is usually the result of calling `frame.insert` many times, which has poor performance.  Consider joining all columns at once using pd.concat(axis=1) instead. To get a de-fragmented frame, use `newframe = frame.copy()`\n",
            "  features_df[tag] = features_df['recipe_slug'].apply(\n",
            "/tmp/ipykernel_2011/4016882601.py:43: PerformanceWarning: DataFrame is highly fragmented.  This is usually the result of calling `frame.insert` many times, which has poor performance.  Consider joining all columns at once using pd.concat(axis=1) instead. To get a de-fragmented frame, use `newframe = frame.copy()`\n",
            "  features_df[tag] = features_df['recipe_slug'].apply(\n",
            "/tmp/ipykernel_2011/4016882601.py:43: PerformanceWarning: DataFrame is highly fragmented.  This is usually the result of calling `frame.insert` many times, which has poor performance.  Consider joining all columns at once using pd.concat(axis=1) instead. To get a de-fragmented frame, use `newframe = frame.copy()`\n",
            "  features_df[tag] = features_df['recipe_slug'].apply(\n",
            "/tmp/ipykernel_2011/4016882601.py:43: PerformanceWarning: DataFrame is highly fragmented.  This is usually the result of calling `frame.insert` many times, which has poor performance.  Consider joining all columns at once using pd.concat(axis=1) instead. To get a de-fragmented frame, use `newframe = frame.copy()`\n",
            "  features_df[tag] = features_df['recipe_slug'].apply(\n",
            "/tmp/ipykernel_2011/4016882601.py:43: PerformanceWarning: DataFrame is highly fragmented.  This is usually the result of calling `frame.insert` many times, which has poor performance.  Consider joining all columns at once using pd.concat(axis=1) instead. To get a de-fragmented frame, use `newframe = frame.copy()`\n",
            "  features_df[tag] = features_df['recipe_slug'].apply(\n",
            "/tmp/ipykernel_2011/4016882601.py:43: PerformanceWarning: DataFrame is highly fragmented.  This is usually the result of calling `frame.insert` many times, which has poor performance.  Consider joining all columns at once using pd.concat(axis=1) instead. To get a de-fragmented frame, use `newframe = frame.copy()`\n",
            "  features_df[tag] = features_df['recipe_slug'].apply(\n",
            "/tmp/ipykernel_2011/4016882601.py:43: PerformanceWarning: DataFrame is highly fragmented.  This is usually the result of calling `frame.insert` many times, which has poor performance.  Consider joining all columns at once using pd.concat(axis=1) instead. To get a de-fragmented frame, use `newframe = frame.copy()`\n",
            "  features_df[tag] = features_df['recipe_slug'].apply(\n",
            "/tmp/ipykernel_2011/4016882601.py:43: PerformanceWarning: DataFrame is highly fragmented.  This is usually the result of calling `frame.insert` many times, which has poor performance.  Consider joining all columns at once using pd.concat(axis=1) instead. To get a de-fragmented frame, use `newframe = frame.copy()`\n",
            "  features_df[tag] = features_df['recipe_slug'].apply(\n",
            "/tmp/ipykernel_2011/4016882601.py:43: PerformanceWarning: DataFrame is highly fragmented.  This is usually the result of calling `frame.insert` many times, which has poor performance.  Consider joining all columns at once using pd.concat(axis=1) instead. To get a de-fragmented frame, use `newframe = frame.copy()`\n",
            "  features_df[tag] = features_df['recipe_slug'].apply(\n",
            "/tmp/ipykernel_2011/4016882601.py:43: PerformanceWarning: DataFrame is highly fragmented.  This is usually the result of calling `frame.insert` many times, which has poor performance.  Consider joining all columns at once using pd.concat(axis=1) instead. To get a de-fragmented frame, use `newframe = frame.copy()`\n",
            "  features_df[tag] = features_df['recipe_slug'].apply(\n",
            "/tmp/ipykernel_2011/4016882601.py:43: PerformanceWarning: DataFrame is highly fragmented.  This is usually the result of calling `frame.insert` many times, which has poor performance.  Consider joining all columns at once using pd.concat(axis=1) instead. To get a de-fragmented frame, use `newframe = frame.copy()`\n",
            "  features_df[tag] = features_df['recipe_slug'].apply(\n",
            "/tmp/ipykernel_2011/4016882601.py:43: PerformanceWarning: DataFrame is highly fragmented.  This is usually the result of calling `frame.insert` many times, which has poor performance.  Consider joining all columns at once using pd.concat(axis=1) instead. To get a de-fragmented frame, use `newframe = frame.copy()`\n",
            "  features_df[tag] = features_df['recipe_slug'].apply(\n",
            "/tmp/ipykernel_2011/4016882601.py:43: PerformanceWarning: DataFrame is highly fragmented.  This is usually the result of calling `frame.insert` many times, which has poor performance.  Consider joining all columns at once using pd.concat(axis=1) instead. To get a de-fragmented frame, use `newframe = frame.copy()`\n",
            "  features_df[tag] = features_df['recipe_slug'].apply(\n",
            "/tmp/ipykernel_2011/4016882601.py:43: PerformanceWarning: DataFrame is highly fragmented.  This is usually the result of calling `frame.insert` many times, which has poor performance.  Consider joining all columns at once using pd.concat(axis=1) instead. To get a de-fragmented frame, use `newframe = frame.copy()`\n",
            "  features_df[tag] = features_df['recipe_slug'].apply(\n",
            "/tmp/ipykernel_2011/4016882601.py:43: PerformanceWarning: DataFrame is highly fragmented.  This is usually the result of calling `frame.insert` many times, which has poor performance.  Consider joining all columns at once using pd.concat(axis=1) instead. To get a de-fragmented frame, use `newframe = frame.copy()`\n",
            "  features_df[tag] = features_df['recipe_slug'].apply(\n",
            "/tmp/ipykernel_2011/4016882601.py:43: PerformanceWarning: DataFrame is highly fragmented.  This is usually the result of calling `frame.insert` many times, which has poor performance.  Consider joining all columns at once using pd.concat(axis=1) instead. To get a de-fragmented frame, use `newframe = frame.copy()`\n",
            "  features_df[tag] = features_df['recipe_slug'].apply(\n",
            "/tmp/ipykernel_2011/4016882601.py:43: PerformanceWarning: DataFrame is highly fragmented.  This is usually the result of calling `frame.insert` many times, which has poor performance.  Consider joining all columns at once using pd.concat(axis=1) instead. To get a de-fragmented frame, use `newframe = frame.copy()`\n",
            "  features_df[tag] = features_df['recipe_slug'].apply(\n",
            "/tmp/ipykernel_2011/4016882601.py:43: PerformanceWarning: DataFrame is highly fragmented.  This is usually the result of calling `frame.insert` many times, which has poor performance.  Consider joining all columns at once using pd.concat(axis=1) instead. To get a de-fragmented frame, use `newframe = frame.copy()`\n",
            "  features_df[tag] = features_df['recipe_slug'].apply(\n",
            "/tmp/ipykernel_2011/4016882601.py:43: PerformanceWarning: DataFrame is highly fragmented.  This is usually the result of calling `frame.insert` many times, which has poor performance.  Consider joining all columns at once using pd.concat(axis=1) instead. To get a de-fragmented frame, use `newframe = frame.copy()`\n",
            "  features_df[tag] = features_df['recipe_slug'].apply(\n",
            "/tmp/ipykernel_2011/4016882601.py:43: PerformanceWarning: DataFrame is highly fragmented.  This is usually the result of calling `frame.insert` many times, which has poor performance.  Consider joining all columns at once using pd.concat(axis=1) instead. To get a de-fragmented frame, use `newframe = frame.copy()`\n",
            "  features_df[tag] = features_df['recipe_slug'].apply(\n",
            "/tmp/ipykernel_2011/4016882601.py:43: PerformanceWarning: DataFrame is highly fragmented.  This is usually the result of calling `frame.insert` many times, which has poor performance.  Consider joining all columns at once using pd.concat(axis=1) instead. To get a de-fragmented frame, use `newframe = frame.copy()`\n",
            "  features_df[tag] = features_df['recipe_slug'].apply(\n",
            "/tmp/ipykernel_2011/4016882601.py:43: PerformanceWarning: DataFrame is highly fragmented.  This is usually the result of calling `frame.insert` many times, which has poor performance.  Consider joining all columns at once using pd.concat(axis=1) instead. To get a de-fragmented frame, use `newframe = frame.copy()`\n",
            "  features_df[tag] = features_df['recipe_slug'].apply(\n",
            "/tmp/ipykernel_2011/4016882601.py:43: PerformanceWarning: DataFrame is highly fragmented.  This is usually the result of calling `frame.insert` many times, which has poor performance.  Consider joining all columns at once using pd.concat(axis=1) instead. To get a de-fragmented frame, use `newframe = frame.copy()`\n",
            "  features_df[tag] = features_df['recipe_slug'].apply(\n",
            "/tmp/ipykernel_2011/4016882601.py:43: PerformanceWarning: DataFrame is highly fragmented.  This is usually the result of calling `frame.insert` many times, which has poor performance.  Consider joining all columns at once using pd.concat(axis=1) instead. To get a de-fragmented frame, use `newframe = frame.copy()`\n",
            "  features_df[tag] = features_df['recipe_slug'].apply(\n",
            "/tmp/ipykernel_2011/4016882601.py:43: PerformanceWarning: DataFrame is highly fragmented.  This is usually the result of calling `frame.insert` many times, which has poor performance.  Consider joining all columns at once using pd.concat(axis=1) instead. To get a de-fragmented frame, use `newframe = frame.copy()`\n",
            "  features_df[tag] = features_df['recipe_slug'].apply(\n",
            "/tmp/ipykernel_2011/4016882601.py:43: PerformanceWarning: DataFrame is highly fragmented.  This is usually the result of calling `frame.insert` many times, which has poor performance.  Consider joining all columns at once using pd.concat(axis=1) instead. To get a de-fragmented frame, use `newframe = frame.copy()`\n",
            "  features_df[tag] = features_df['recipe_slug'].apply(\n",
            "/tmp/ipykernel_2011/4016882601.py:43: PerformanceWarning: DataFrame is highly fragmented.  This is usually the result of calling `frame.insert` many times, which has poor performance.  Consider joining all columns at once using pd.concat(axis=1) instead. To get a de-fragmented frame, use `newframe = frame.copy()`\n",
            "  features_df[tag] = features_df['recipe_slug'].apply(\n",
            "/tmp/ipykernel_2011/4016882601.py:43: PerformanceWarning: DataFrame is highly fragmented.  This is usually the result of calling `frame.insert` many times, which has poor performance.  Consider joining all columns at once using pd.concat(axis=1) instead. To get a de-fragmented frame, use `newframe = frame.copy()`\n",
            "  features_df[tag] = features_df['recipe_slug'].apply(\n",
            "/tmp/ipykernel_2011/4016882601.py:43: PerformanceWarning: DataFrame is highly fragmented.  This is usually the result of calling `frame.insert` many times, which has poor performance.  Consider joining all columns at once using pd.concat(axis=1) instead. To get a de-fragmented frame, use `newframe = frame.copy()`\n",
            "  features_df[tag] = features_df['recipe_slug'].apply(\n",
            "/tmp/ipykernel_2011/4016882601.py:43: PerformanceWarning: DataFrame is highly fragmented.  This is usually the result of calling `frame.insert` many times, which has poor performance.  Consider joining all columns at once using pd.concat(axis=1) instead. To get a de-fragmented frame, use `newframe = frame.copy()`\n",
            "  features_df[tag] = features_df['recipe_slug'].apply(\n",
            "/tmp/ipykernel_2011/4016882601.py:43: PerformanceWarning: DataFrame is highly fragmented.  This is usually the result of calling `frame.insert` many times, which has poor performance.  Consider joining all columns at once using pd.concat(axis=1) instead. To get a de-fragmented frame, use `newframe = frame.copy()`\n",
            "  features_df[tag] = features_df['recipe_slug'].apply(\n",
            "/tmp/ipykernel_2011/4016882601.py:43: PerformanceWarning: DataFrame is highly fragmented.  This is usually the result of calling `frame.insert` many times, which has poor performance.  Consider joining all columns at once using pd.concat(axis=1) instead. To get a de-fragmented frame, use `newframe = frame.copy()`\n",
            "  features_df[tag] = features_df['recipe_slug'].apply(\n",
            "/tmp/ipykernel_2011/4016882601.py:43: PerformanceWarning: DataFrame is highly fragmented.  This is usually the result of calling `frame.insert` many times, which has poor performance.  Consider joining all columns at once using pd.concat(axis=1) instead. To get a de-fragmented frame, use `newframe = frame.copy()`\n",
            "  features_df[tag] = features_df['recipe_slug'].apply(\n",
            "/tmp/ipykernel_2011/4016882601.py:43: PerformanceWarning: DataFrame is highly fragmented.  This is usually the result of calling `frame.insert` many times, which has poor performance.  Consider joining all columns at once using pd.concat(axis=1) instead. To get a de-fragmented frame, use `newframe = frame.copy()`\n",
            "  features_df[tag] = features_df['recipe_slug'].apply(\n",
            "/tmp/ipykernel_2011/4016882601.py:43: PerformanceWarning: DataFrame is highly fragmented.  This is usually the result of calling `frame.insert` many times, which has poor performance.  Consider joining all columns at once using pd.concat(axis=1) instead. To get a de-fragmented frame, use `newframe = frame.copy()`\n",
            "  features_df[tag] = features_df['recipe_slug'].apply(\n",
            "/tmp/ipykernel_2011/4016882601.py:43: PerformanceWarning: DataFrame is highly fragmented.  This is usually the result of calling `frame.insert` many times, which has poor performance.  Consider joining all columns at once using pd.concat(axis=1) instead. To get a de-fragmented frame, use `newframe = frame.copy()`\n",
            "  features_df[tag] = features_df['recipe_slug'].apply(\n",
            "/tmp/ipykernel_2011/4016882601.py:43: PerformanceWarning: DataFrame is highly fragmented.  This is usually the result of calling `frame.insert` many times, which has poor performance.  Consider joining all columns at once using pd.concat(axis=1) instead. To get a de-fragmented frame, use `newframe = frame.copy()`\n",
            "  features_df[tag] = features_df['recipe_slug'].apply(\n",
            "/tmp/ipykernel_2011/4016882601.py:43: PerformanceWarning: DataFrame is highly fragmented.  This is usually the result of calling `frame.insert` many times, which has poor performance.  Consider joining all columns at once using pd.concat(axis=1) instead. To get a de-fragmented frame, use `newframe = frame.copy()`\n",
            "  features_df[tag] = features_df['recipe_slug'].apply(\n",
            "/tmp/ipykernel_2011/4016882601.py:43: PerformanceWarning: DataFrame is highly fragmented.  This is usually the result of calling `frame.insert` many times, which has poor performance.  Consider joining all columns at once using pd.concat(axis=1) instead. To get a de-fragmented frame, use `newframe = frame.copy()`\n",
            "  features_df[tag] = features_df['recipe_slug'].apply(\n",
            "/tmp/ipykernel_2011/4016882601.py:43: PerformanceWarning: DataFrame is highly fragmented.  This is usually the result of calling `frame.insert` many times, which has poor performance.  Consider joining all columns at once using pd.concat(axis=1) instead. To get a de-fragmented frame, use `newframe = frame.copy()`\n",
            "  features_df[tag] = features_df['recipe_slug'].apply(\n",
            "/tmp/ipykernel_2011/4016882601.py:43: PerformanceWarning: DataFrame is highly fragmented.  This is usually the result of calling `frame.insert` many times, which has poor performance.  Consider joining all columns at once using pd.concat(axis=1) instead. To get a de-fragmented frame, use `newframe = frame.copy()`\n",
            "  features_df[tag] = features_df['recipe_slug'].apply(\n",
            "/tmp/ipykernel_2011/4016882601.py:43: PerformanceWarning: DataFrame is highly fragmented.  This is usually the result of calling `frame.insert` many times, which has poor performance.  Consider joining all columns at once using pd.concat(axis=1) instead. To get a de-fragmented frame, use `newframe = frame.copy()`\n",
            "  features_df[tag] = features_df['recipe_slug'].apply(\n",
            "/tmp/ipykernel_2011/4016882601.py:43: PerformanceWarning: DataFrame is highly fragmented.  This is usually the result of calling `frame.insert` many times, which has poor performance.  Consider joining all columns at once using pd.concat(axis=1) instead. To get a de-fragmented frame, use `newframe = frame.copy()`\n",
            "  features_df[tag] = features_df['recipe_slug'].apply(\n",
            "/tmp/ipykernel_2011/4016882601.py:43: PerformanceWarning: DataFrame is highly fragmented.  This is usually the result of calling `frame.insert` many times, which has poor performance.  Consider joining all columns at once using pd.concat(axis=1) instead. To get a de-fragmented frame, use `newframe = frame.copy()`\n",
            "  features_df[tag] = features_df['recipe_slug'].apply(\n",
            "/tmp/ipykernel_2011/4016882601.py:43: PerformanceWarning: DataFrame is highly fragmented.  This is usually the result of calling `frame.insert` many times, which has poor performance.  Consider joining all columns at once using pd.concat(axis=1) instead. To get a de-fragmented frame, use `newframe = frame.copy()`\n",
            "  features_df[tag] = features_df['recipe_slug'].apply(\n",
            "/tmp/ipykernel_2011/4016882601.py:43: PerformanceWarning: DataFrame is highly fragmented.  This is usually the result of calling `frame.insert` many times, which has poor performance.  Consider joining all columns at once using pd.concat(axis=1) instead. To get a de-fragmented frame, use `newframe = frame.copy()`\n",
            "  features_df[tag] = features_df['recipe_slug'].apply(\n",
            "/tmp/ipykernel_2011/4016882601.py:43: PerformanceWarning: DataFrame is highly fragmented.  This is usually the result of calling `frame.insert` many times, which has poor performance.  Consider joining all columns at once using pd.concat(axis=1) instead. To get a de-fragmented frame, use `newframe = frame.copy()`\n",
            "  features_df[tag] = features_df['recipe_slug'].apply(\n",
            "/tmp/ipykernel_2011/4016882601.py:43: PerformanceWarning: DataFrame is highly fragmented.  This is usually the result of calling `frame.insert` many times, which has poor performance.  Consider joining all columns at once using pd.concat(axis=1) instead. To get a de-fragmented frame, use `newframe = frame.copy()`\n",
            "  features_df[tag] = features_df['recipe_slug'].apply(\n",
            "/tmp/ipykernel_2011/4016882601.py:43: PerformanceWarning: DataFrame is highly fragmented.  This is usually the result of calling `frame.insert` many times, which has poor performance.  Consider joining all columns at once using pd.concat(axis=1) instead. To get a de-fragmented frame, use `newframe = frame.copy()`\n",
            "  features_df[tag] = features_df['recipe_slug'].apply(\n",
            "/tmp/ipykernel_2011/4016882601.py:43: PerformanceWarning: DataFrame is highly fragmented.  This is usually the result of calling `frame.insert` many times, which has poor performance.  Consider joining all columns at once using pd.concat(axis=1) instead. To get a de-fragmented frame, use `newframe = frame.copy()`\n",
            "  features_df[tag] = features_df['recipe_slug'].apply(\n",
            "/tmp/ipykernel_2011/4016882601.py:43: PerformanceWarning: DataFrame is highly fragmented.  This is usually the result of calling `frame.insert` many times, which has poor performance.  Consider joining all columns at once using pd.concat(axis=1) instead. To get a de-fragmented frame, use `newframe = frame.copy()`\n",
            "  features_df[tag] = features_df['recipe_slug'].apply(\n",
            "/tmp/ipykernel_2011/4016882601.py:43: PerformanceWarning: DataFrame is highly fragmented.  This is usually the result of calling `frame.insert` many times, which has poor performance.  Consider joining all columns at once using pd.concat(axis=1) instead. To get a de-fragmented frame, use `newframe = frame.copy()`\n",
            "  features_df[tag] = features_df['recipe_slug'].apply(\n",
            "/tmp/ipykernel_2011/4016882601.py:43: PerformanceWarning: DataFrame is highly fragmented.  This is usually the result of calling `frame.insert` many times, which has poor performance.  Consider joining all columns at once using pd.concat(axis=1) instead. To get a de-fragmented frame, use `newframe = frame.copy()`\n",
            "  features_df[tag] = features_df['recipe_slug'].apply(\n",
            "/tmp/ipykernel_2011/4016882601.py:43: PerformanceWarning: DataFrame is highly fragmented.  This is usually the result of calling `frame.insert` many times, which has poor performance.  Consider joining all columns at once using pd.concat(axis=1) instead. To get a de-fragmented frame, use `newframe = frame.copy()`\n",
            "  features_df[tag] = features_df['recipe_slug'].apply(\n",
            "/tmp/ipykernel_2011/4016882601.py:43: PerformanceWarning: DataFrame is highly fragmented.  This is usually the result of calling `frame.insert` many times, which has poor performance.  Consider joining all columns at once using pd.concat(axis=1) instead. To get a de-fragmented frame, use `newframe = frame.copy()`\n",
            "  features_df[tag] = features_df['recipe_slug'].apply(\n",
            "/tmp/ipykernel_2011/4016882601.py:43: PerformanceWarning: DataFrame is highly fragmented.  This is usually the result of calling `frame.insert` many times, which has poor performance.  Consider joining all columns at once using pd.concat(axis=1) instead. To get a de-fragmented frame, use `newframe = frame.copy()`\n",
            "  features_df[tag] = features_df['recipe_slug'].apply(\n",
            "/tmp/ipykernel_2011/4016882601.py:43: PerformanceWarning: DataFrame is highly fragmented.  This is usually the result of calling `frame.insert` many times, which has poor performance.  Consider joining all columns at once using pd.concat(axis=1) instead. To get a de-fragmented frame, use `newframe = frame.copy()`\n",
            "  features_df[tag] = features_df['recipe_slug'].apply(\n",
            "/tmp/ipykernel_2011/4016882601.py:43: PerformanceWarning: DataFrame is highly fragmented.  This is usually the result of calling `frame.insert` many times, which has poor performance.  Consider joining all columns at once using pd.concat(axis=1) instead. To get a de-fragmented frame, use `newframe = frame.copy()`\n",
            "  features_df[tag] = features_df['recipe_slug'].apply(\n",
            "/tmp/ipykernel_2011/4016882601.py:43: PerformanceWarning: DataFrame is highly fragmented.  This is usually the result of calling `frame.insert` many times, which has poor performance.  Consider joining all columns at once using pd.concat(axis=1) instead. To get a de-fragmented frame, use `newframe = frame.copy()`\n",
            "  features_df[tag] = features_df['recipe_slug'].apply(\n",
            "/tmp/ipykernel_2011/4016882601.py:43: PerformanceWarning: DataFrame is highly fragmented.  This is usually the result of calling `frame.insert` many times, which has poor performance.  Consider joining all columns at once using pd.concat(axis=1) instead. To get a de-fragmented frame, use `newframe = frame.copy()`\n",
            "  features_df[tag] = features_df['recipe_slug'].apply(\n",
            "/tmp/ipykernel_2011/4016882601.py:43: PerformanceWarning: DataFrame is highly fragmented.  This is usually the result of calling `frame.insert` many times, which has poor performance.  Consider joining all columns at once using pd.concat(axis=1) instead. To get a de-fragmented frame, use `newframe = frame.copy()`\n",
            "  features_df[tag] = features_df['recipe_slug'].apply(\n",
            "/tmp/ipykernel_2011/4016882601.py:43: PerformanceWarning: DataFrame is highly fragmented.  This is usually the result of calling `frame.insert` many times, which has poor performance.  Consider joining all columns at once using pd.concat(axis=1) instead. To get a de-fragmented frame, use `newframe = frame.copy()`\n",
            "  features_df[tag] = features_df['recipe_slug'].apply(\n",
            "/tmp/ipykernel_2011/4016882601.py:43: PerformanceWarning: DataFrame is highly fragmented.  This is usually the result of calling `frame.insert` many times, which has poor performance.  Consider joining all columns at once using pd.concat(axis=1) instead. To get a de-fragmented frame, use `newframe = frame.copy()`\n",
            "  features_df[tag] = features_df['recipe_slug'].apply(\n",
            "/tmp/ipykernel_2011/4016882601.py:43: PerformanceWarning: DataFrame is highly fragmented.  This is usually the result of calling `frame.insert` many times, which has poor performance.  Consider joining all columns at once using pd.concat(axis=1) instead. To get a de-fragmented frame, use `newframe = frame.copy()`\n",
            "  features_df[tag] = features_df['recipe_slug'].apply(\n",
            "/tmp/ipykernel_2011/4016882601.py:43: PerformanceWarning: DataFrame is highly fragmented.  This is usually the result of calling `frame.insert` many times, which has poor performance.  Consider joining all columns at once using pd.concat(axis=1) instead. To get a de-fragmented frame, use `newframe = frame.copy()`\n",
            "  features_df[tag] = features_df['recipe_slug'].apply(\n",
            "/tmp/ipykernel_2011/4016882601.py:43: PerformanceWarning: DataFrame is highly fragmented.  This is usually the result of calling `frame.insert` many times, which has poor performance.  Consider joining all columns at once using pd.concat(axis=1) instead. To get a de-fragmented frame, use `newframe = frame.copy()`\n",
            "  features_df[tag] = features_df['recipe_slug'].apply(\n",
            "/tmp/ipykernel_2011/4016882601.py:43: PerformanceWarning: DataFrame is highly fragmented.  This is usually the result of calling `frame.insert` many times, which has poor performance.  Consider joining all columns at once using pd.concat(axis=1) instead. To get a de-fragmented frame, use `newframe = frame.copy()`\n",
            "  features_df[tag] = features_df['recipe_slug'].apply(\n",
            "/tmp/ipykernel_2011/4016882601.py:43: PerformanceWarning: DataFrame is highly fragmented.  This is usually the result of calling `frame.insert` many times, which has poor performance.  Consider joining all columns at once using pd.concat(axis=1) instead. To get a de-fragmented frame, use `newframe = frame.copy()`\n",
            "  features_df[tag] = features_df['recipe_slug'].apply(\n",
            "/tmp/ipykernel_2011/4016882601.py:43: PerformanceWarning: DataFrame is highly fragmented.  This is usually the result of calling `frame.insert` many times, which has poor performance.  Consider joining all columns at once using pd.concat(axis=1) instead. To get a de-fragmented frame, use `newframe = frame.copy()`\n",
            "  features_df[tag] = features_df['recipe_slug'].apply(\n",
            "/tmp/ipykernel_2011/4016882601.py:43: PerformanceWarning: DataFrame is highly fragmented.  This is usually the result of calling `frame.insert` many times, which has poor performance.  Consider joining all columns at once using pd.concat(axis=1) instead. To get a de-fragmented frame, use `newframe = frame.copy()`\n",
            "  features_df[tag] = features_df['recipe_slug'].apply(\n",
            "/tmp/ipykernel_2011/4016882601.py:43: PerformanceWarning: DataFrame is highly fragmented.  This is usually the result of calling `frame.insert` many times, which has poor performance.  Consider joining all columns at once using pd.concat(axis=1) instead. To get a de-fragmented frame, use `newframe = frame.copy()`\n",
            "  features_df[tag] = features_df['recipe_slug'].apply(\n",
            "/tmp/ipykernel_2011/4016882601.py:43: PerformanceWarning: DataFrame is highly fragmented.  This is usually the result of calling `frame.insert` many times, which has poor performance.  Consider joining all columns at once using pd.concat(axis=1) instead. To get a de-fragmented frame, use `newframe = frame.copy()`\n",
            "  features_df[tag] = features_df['recipe_slug'].apply(\n"
          ]
        }
      ],
      "source": [
        "# YOUR CHANGES HERE\n",
        "\n",
        "import pandas as pd\n",
        "\n",
        "# Load the data files\n",
        "ratings_df = pd.read_csv('ratings.tsv', sep='\\t')\n",
        "recipe_tags_df = pd.read_csv('recipe-tags.tsv', sep='\\t')\n",
        "\n",
        "# Print info about the files for debugging\n",
        "print(\"Ratings file shape:\", ratings_df.shape)\n",
        "print(\"Recipe-tags file shape:\", recipe_tags_df.shape)\n",
        "print(\"\\nFirst few rows of ratings:\")\n",
        "print(ratings_df.head())\n",
        "print(\"\\nFirst few rows of recipe-tags:\")\n",
        "print(recipe_tags_df.head())\n",
        "\n",
        "# Get unique tags to create columns\n",
        "unique_tags = sorted(recipe_tags_df['recipe_tag'].unique())\n",
        "print(f\"\\nFound {len(unique_tags)} unique tags\")\n",
        "print(\"First 20 tags:\", unique_tags[:20])\n",
        "\n",
        "# Create features dataframe starting with recipe_slug from ratings\n",
        "# ensure same order for ratings\n",
        "features_df = ratings_df[['recipe_slug']].copy()\n",
        "\n",
        "# Add bias column (hard-coded to 1)\n",
        "features_df['bias'] = 1\n",
        "\n",
        "# Create a mapping of recipe_slug to set of tags\n",
        "recipe_to_tags = {}\n",
        "for _, row in recipe_tags_df.iterrows():\n",
        "    recipe_slug = row['recipe_slug']\n",
        "    tag = row['recipe_tag']\n",
        "    if recipe_slug not in recipe_to_tags:\n",
        "        recipe_to_tags[recipe_slug] = set()\n",
        "    recipe_to_tags[recipe_slug].add(tag)\n",
        "\n",
        "print(f\"\\nProcessed tags for {len(recipe_to_tags)} recipes\")\n",
        "\n",
        "# Create binary encoding for each tag\n",
        "for tag in unique_tags:\n",
        "    # Create binary column: 1 if recipe has tag, 0 otherwise\n",
        "    features_df[tag] = features_df['recipe_slug'].apply(\n",
        "        lambda recipe: 1 if recipe in recipe_to_tags and tag in recipe_to_tags[recipe] else 0\n",
        "    )\n",
        "\n",
        "# Verify the order matches ratings.tsv\n",
        "print(f\"\\nFeatures file will have shape: {features_df.shape}\")\n",
        "print(\"Columns:\", list(features_df.columns[:10]), \"... (showing first 10)\")\n",
        "\n",
        "# Check that recipe order matches between files\n",
        "recipes_match = (features_df['recipe_slug'] == ratings_df['recipe_slug']).all()\n",
        "print(f\"\\nRecipe order matches between features and ratings: {recipes_match}\")\n",
        "\n",
        "# Save to TSV file\n",
        "features_df.to_csv('features.tsv', sep='\\t', index=False)\n",
        "print(\"\\nSaved features.tsv successfully!\")"
      ]
    },
    {
      "cell_type": "markdown",
      "metadata": {
        "id": "w63ji-Oi6oH7"
      },
      "source": [
        "Submit \"features.tsv\" in Gradescope."
      ]
    },
    {
      "cell_type": "markdown",
      "metadata": {
        "id": "4TeXvznlwJzo"
      },
      "source": [
        "## Part 3: Linear Preference Model\n",
        "\n",
        "Use your feature and rating files to build a ridge regression model with ridge regression's regularization parameter $\\alpha$ set to 1.\n"
      ]
    },
    {
      "cell_type": "markdown",
      "metadata": {
        "id": "aVlUnVv4oDIk"
      },
      "source": [
        "Hint: If you are using scikit-learn modeling classes, you should use `fit_intercept=False` since that intercept value will be redundant with the bias coefficient."
      ]
    },
    {
      "cell_type": "markdown",
      "metadata": {
        "id": "NLrBu-z7A45W"
      },
      "source": [
        "Hint: The estimate component of the bounds should match the previous estimate, so you should be able to just focus on the variance component of the bounds now."
      ]
    },
    {
      "cell_type": "code",
      "execution_count": 2,
      "metadata": {
        "id": "dxtiRunPwPYz"
      },
      "outputs": [
        {
          "name": "stdout",
          "output_type": "stream",
          "text": [
            "Features file shape: (100, 298)\n",
            "Ratings file shape: (100, 2)\n",
            "Recipe order matches: True\n",
            "Feature matrix shape: (100, 297)\n",
            "Target vector shape: (100,)\n",
            "Number of features: 297\n",
            "Feature columns: ['bias', 'alfredo', 'almond', 'american', 'appetizer'] ... ['vegetarian', 'warm', 'whippedcream', 'winter', 'yeastdough']\n",
            "\n",
            "Fitting ridge regression model...\n",
            "Model fitted successfully!\n",
            "Number of coefficients: 297\n",
            "Coefficient range: [-0.1346, 0.3552]\n",
            "\n",
            "Coefficients: 297\n",
            "Top 10 positive coefficients:\n",
            "    recipe_tag  coefficient\n",
            "0         bias     0.355173\n",
            "10       bacon     0.335862\n",
            "88     dessert     0.232927\n",
            "51   chocolate     0.177956\n",
            "195      pasta     0.122409\n",
            "14      baking     0.112239\n",
            "178     nachos     0.095671\n",
            "27   breakfast     0.090172\n",
            "11       baked     0.085564\n",
            "245    souffle     0.083602\n",
            "\n",
            "Top 10 negative coefficients:\n",
            "            recipe_tag  coefficient\n",
            "292         vegetarian    -0.134633\n",
            "204  pickledvegetables    -0.132536\n",
            "139            healthy    -0.100077\n",
            "130            gruyere    -0.092416\n",
            "193           parmesan    -0.092416\n",
            "111          friedfood    -0.091783\n",
            "190            oysters    -0.082924\n",
            "249    southerncuisine    -0.082924\n",
            "241              snack    -0.078426\n",
            "176           mushroom    -0.075868\n"
          ]
        }
      ],
      "source": [
        "# YOUR CHANGES HERE\n",
        "\n",
        "import pandas as pd\n",
        "from sklearn.linear_model import Ridge\n",
        "import numpy as np\n",
        "\n",
        "# Load the feature and rating files\n",
        "features_df = pd.read_csv('features.tsv', sep='\\t')\n",
        "ratings_df = pd.read_csv('ratings.tsv', sep='\\t')\n",
        "\n",
        "print(\"Features file shape:\", features_df.shape)\n",
        "print(\"Ratings file shape:\", ratings_df.shape)\n",
        "\n",
        "# Verify that recipe order matches between files\n",
        "recipes_match = (features_df['recipe_slug'] == ratings_df['recipe_slug']).all()\n",
        "print(f\"Recipe order matches: {recipes_match}\")\n",
        "\n",
        "if not recipes_match:\n",
        "    print(\"ERROR: Recipe orders don't match between files!\")\n",
        "    exit()\n",
        "\n",
        "# Prepare the data for modeling\n",
        "# X: feature matrix (excluding recipe_slug column)\n",
        "# y: target ratings\n",
        "\n",
        "# Get feature columns (everything except recipe_slug)\n",
        "feature_columns = [col for col in features_df.columns if col != 'recipe_slug']\n",
        "X = features_df[feature_columns].values\n",
        "y = ratings_df['rating'].values\n",
        "\n",
        "print(f\"Feature matrix shape: {X.shape}\")\n",
        "print(f\"Target vector shape: {y.shape}\")\n",
        "print(f\"Number of features: {len(feature_columns)}\")\n",
        "\n",
        "# Display feature column names (first few and last few)\n",
        "print(f\"Feature columns: {feature_columns[:5]} ... {feature_columns[-5:]}\")\n",
        "\n",
        "# Build ridge regression model with α = 1\n",
        "# fit_intercept=False already have a bias column\n",
        "ridge_model = Ridge(alpha=1.0, fit_intercept=False)\n",
        "\n",
        "# Fit the model\n",
        "print(\"\\nFitting ridge regression model...\")\n",
        "ridge_model.fit(X, y)\n",
        "\n",
        "print(\"Model fitted successfully!\")\n",
        "\n",
        "# Get coefficients\n",
        "coefficients = ridge_model.coef_\n",
        "\n",
        "print(f\"Number of coefficients: {len(coefficients)}\")\n",
        "print(f\"Coefficient range: [{coefficients.min():.4f}, {coefficients.max():.4f}]\")\n",
        "\n",
        "# Create dataframe with feature names and coefficients\n",
        "coef_df = pd.DataFrame({\n",
        "    'feature_name': feature_columns,\n",
        "    'coefficient': coefficients\n",
        "})\n",
        "\n",
        "coef_df_with_bias = coef_df.copy()  \n",
        "\n",
        "# Rename columns to match required output format\n",
        "coef_df_with_bias.columns = ['recipe_tag', 'coefficient']\n",
        "\n",
        "print(f\"\\nCoefficients: {len(coef_df_with_bias)}\")\n",
        "print(\"Top 10 positive coefficients:\")\n",
        "print(coef_df_with_bias.sort_values('coefficient', ascending=False).head(10))\n",
        "\n",
        "print(\"\\nTop 10 negative coefficients:\")\n",
        "print(coef_df_with_bias.sort_values('coefficient', ascending=True).head(10))\n"
      ]
    },
    {
      "cell_type": "markdown",
      "metadata": {
        "id": "fw9LaHF_8tsA"
      },
      "source": [
        "Save the coefficients of this model in a file \"model.tsv\" with columns \"recipe_tag\" and \"coefficient\".\n",
        "Do not include the bias."
      ]
    },
    {
      "cell_type": "code",
      "execution_count": 3,
      "metadata": {
        "id": "fiMBlU4L8uSR"
      },
      "outputs": [
        {
          "name": "stdout",
          "output_type": "stream",
          "text": [
            "\n",
            "Saved model.tsv with 297 coefficients\n"
          ]
        }
      ],
      "source": [
        "# YOUR CHANGES HERE\n",
        "\n",
        "coef_df_with_bias.to_csv('model.tsv', sep='\\t', index=False)\n",
        "print(f\"\\nSaved model.tsv with {len(coef_df_with_bias)} coefficients\")"
      ]
    },
    {
      "cell_type": "markdown",
      "metadata": {
        "id": "86uS_zZ0wQxC"
      },
      "source": [
        "Submit \"model.tsv\" in Gradescope."
      ]
    },
    {
      "cell_type": "markdown",
      "metadata": {
        "id": "B1Nfs7zCsDpj"
      },
      "source": [
        "## Part 4: Recipe Estimates\n",
        "\n",
        "Use the recipe model to estimate the score of every recipe.\n",
        "Save these estimates to a file \"estimates.tsv\" with columns recipe_slug and score_estimate."
      ]
    },
    {
      "cell_type": "code",
      "execution_count": 16,
      "metadata": {
        "id": "pIClPwYVso5a"
      },
      "outputs": [
        {
          "name": "stdout",
          "output_type": "stream",
          "text": [
            "Features file shape: (100, 298)\n",
            "Ratings file shape: (100, 2)\n",
            "Model file shape: (296, 2)\n",
            "Ridge model refitted successfully\n",
            "Generated 100 predictions\n",
            "Prediction range: [0.0025, 1.0368]\n",
            "First few estimates:\n",
            "                    recipe_slug  score_estimate\n",
            "0                       falafel        0.229707\n",
            "1                    spamburger        0.034134\n",
            "2              bacon-fried-rice        0.960169\n",
            "3               chicken-fingers        0.277268\n",
            "4                   apple-crisp        0.782425\n",
            "5         cranberry-apple-crisp        0.714080\n",
            "6  bacon-chocolate-chip-cookies        1.036802\n",
            "7                        sujebi        0.072551\n",
            "8               pasta-primavera        0.285169\n",
            "9                         ramen        0.033360\n",
            "\n",
            "Top 10 highest estimated scores:\n",
            "                     recipe_slug  score_estimate\n",
            "6   bacon-chocolate-chip-cookies        1.036802\n",
            "40            maple-bacon-donuts        1.016086\n",
            "37  chocolate-peanut-butter-cake        1.011836\n",
            "26  brioche-bread-with-chocolate        1.008235\n",
            "68               chocolate-babka        1.004084\n",
            "66          chocolate-croissants        0.996448\n",
            "95          bacon-mac-and-cheese        0.984418\n",
            "93         bacon-wrapped-chicken        0.981916\n",
            "77                chocolate-cake        0.977302\n",
            "22        peanut-butter-brownies        0.973681\n",
            "\n",
            "Top 10 lowest estimated scores:\n",
            "                                   recipe_slug  score_estimate\n",
            "28                            asparagus-burger        0.002546\n",
            "9                                        ramen        0.033360\n",
            "1                                   spamburger        0.034134\n",
            "71                                 spam-musubi        0.034659\n",
            "46  cold-soba-noodles-with-tomato-and-cucumber        0.035202\n",
            "84                         cold-sesame-noodles        0.051493\n",
            "20                         pickled-green-beans        0.063437\n",
            "36                           pickled-asparagus        0.069099\n",
            "7                                       sujebi        0.072551\n",
            "21                               fried-oysters        0.082924\n",
            "\n",
            "Training MSE (should match Part 3): 0.001445\n"
          ]
        }
      ],
      "source": [
        "# YOUR CHANGES HERE\n",
        "\n",
        "import pandas as pd\n",
        "from sklearn.linear_model import Ridge\n",
        "import numpy as np\n",
        "\n",
        "# Load the necessary files\n",
        "features_df = pd.read_csv('features.tsv', sep='\\t')\n",
        "ratings_df = pd.read_csv('ratings.tsv', sep='\\t')\n",
        "model_df = pd.read_csv('model.tsv', sep='\\t')\n",
        "\n",
        "print(\"Features file shape:\", features_df.shape)\n",
        "print(\"Ratings file shape:\", ratings_df.shape)\n",
        "print(\"Model file shape:\", model_df.shape)\n",
        "\n",
        "# Recreate the ridge regression model\n",
        "\n",
        "# Prepare the data for modeling (same as Part 3)\n",
        "feature_columns = [col for col in features_df.columns if col != 'recipe_slug']\n",
        "X = features_df[feature_columns].values\n",
        "y = ratings_df['rating'].values\n",
        "\n",
        "# Refit the ridge model (same as Part 3)\n",
        "ridge_model = Ridge(alpha=1.0, fit_intercept=False)\n",
        "ridge_model.fit(X, y)\n",
        "\n",
        "print(\"Ridge model refitted successfully\")\n",
        "\n",
        "# Use the model to predict scores for all recipes\n",
        "all_predictions = ridge_model.predict(X)\n",
        "\n",
        "print(f\"Generated {len(all_predictions)} predictions\")\n",
        "print(f\"Prediction range: [{all_predictions.min():.4f}, {all_predictions.max():.4f}]\")\n",
        "\n",
        "# Create estimates dataframe\n",
        "estimates_df = pd.DataFrame({\n",
        "    'recipe_slug': features_df['recipe_slug'],\n",
        "    'score_estimate': all_predictions\n",
        "})\n",
        "\n",
        "print(\"First few estimates:\")\n",
        "print(estimates_df.head(10))\n",
        "\n",
        "# Sort by score estimate to see highest and lowest predicted preferences\n",
        "print(\"\\nTop 10 highest estimated scores:\")\n",
        "top_estimates = estimates_df.sort_values('score_estimate', ascending=False).head(10)\n",
        "print(top_estimates)\n",
        "\n",
        "print(\"\\nTop 10 lowest estimated scores:\")\n",
        "bottom_estimates = estimates_df.sort_values('score_estimate', ascending=True).head(10)\n",
        "print(bottom_estimates)\n",
        "\n",
        "# Verify predictions match actual ratings for training data\n",
        "mse = np.mean((y - all_predictions) ** 2)\n",
        "print(f\"\\nTraining MSE (should match Part 3): {mse:.6f}\")"
      ]
    },
    {
      "cell_type": "code",
      "execution_count": 17,
      "metadata": {},
      "outputs": [
        {
          "name": "stdout",
          "output_type": "stream",
          "text": [
            "\n",
            "Saved estimates.tsv with 100 recipe estimates\n"
          ]
        }
      ],
      "source": [
        "# Save\n",
        "estimates_df.to_csv('estimates.tsv', sep='\\t', index=False)\n",
        "print(f\"\\nSaved estimates.tsv with {len(estimates_df)} recipe estimates\")"
      ]
    },
    {
      "cell_type": "markdown",
      "metadata": {
        "id": "i5t3uSE_srMA"
      },
      "source": [
        "Submit \"estimates.tsv\" in Gradescope."
      ]
    },
    {
      "cell_type": "markdown",
      "metadata": {
        "id": "yTBplNhRst8q"
      },
      "source": [
        "## Part 5: LinUCB Bounds\n",
        "\n",
        "Calculate the upper bounds of LinUCB using data corresponding to trying every recipe once and receiving the rating in \"ratings.tsv\" as the reward.\n",
        "Keep the ridge regression regularization parameter at 1, and set LinUCB's $\\alpha$ parameter to 2.\n",
        "Save these upper bounds to a file \"bounds.tsv\" with columns recipe_slug and score_bound."
      ]
    },
    {
      "cell_type": "code",
      "execution_count": 3,
      "metadata": {},
      "outputs": [
        {
          "name": "stdout",
          "output_type": "stream",
          "text": [
            "Saved bounds.tsv with shape=(100, 2)\n",
            "        recipe_slug  score_bound\n",
            "0           falafel     1.995962\n",
            "1        spamburger     1.928470\n",
            "2  bacon-fried-rice     2.826326\n",
            "3   chicken-fingers     2.071384\n",
            "4       apple-crisp     2.558767\n"
          ]
        }
      ],
      "source": [
        "import pandas as pd\n",
        "import numpy as np\n",
        "\n",
        "Xdf = pd.read_csv(\"features.tsv\", sep=\"\\t\")\n",
        "rdf = pd.read_csv(\"ratings.tsv\", sep=\"\\t\")\n",
        "\n",
        "X = Xdf.set_index(\"recipe_slug\")\n",
        "y = rdf.set_index(\"recipe_slug\").loc[X.index, \"rating\"].to_numpy()\n",
        "\n",
        "Xmat = X.to_numpy(dtype=float)\n",
        "\n",
        "alpha_ridge = 1.0\n",
        "theta = np.linalg.solve(Xmat.T @ Xmat + alpha_ridge * np.eye(Xmat.shape[1]), Xmat.T @ y)\n",
        "\n",
        "A = Xmat.T @ Xmat + alpha_ridge * np.eye(Xmat.shape[1])\n",
        "A_inv = np.linalg.inv(A)\n",
        "s2 = np.einsum(\"ij,jk,ik->i\", Xmat, A_inv, Xmat)\n",
        "s = np.sqrt(np.maximum(s2, 0.0))\n",
        "\n",
        "alpha_linucb = 2.0\n",
        "\n",
        "ucb = Xmat @ theta + alpha_linucb * s\n",
        "\n",
        "bounds = pd.DataFrame({\n",
        "    \"recipe_slug\": X.index,\n",
        "    \"score_bound\": ucb\n",
        "})\n",
        "bounds.to_csv(\"bounds.tsv\", sep=\"\\t\", index=False)\n",
        "\n",
        "print(f\"Saved bounds.tsv with shape={bounds.shape}\")\n",
        "print(bounds.head())"
      ]
    },
    {
      "cell_type": "markdown",
      "metadata": {
        "id": "ZQ4RPppFvG-S"
      },
      "source": [
        "Submit \"bounds.tsv\" in Gradescope."
      ]
    },
    {
      "cell_type": "markdown",
      "metadata": {
        "id": "AfazOSWlwYsP"
      },
      "source": [
        "## Part 6: Make Online Recommendations\n",
        "\n",
        "Implement LinUCB to make 100 recommendations starting with no data and using the same parameters as in part 5.\n",
        "One recommendation should be made at a time and you can break ties arbitrarily.\n",
        "After each recommendation, use the rating from part 1 as the reward to update the LinUCB data.\n",
        "Record the recommendations made in a file \"recommendations.tsv\" with columns \"recipe_slug\", \"score_bound\", and \"reward\".\n",
        "The rows in this file should be in the same order as the recommendations were made."
      ]
    },
    {
      "cell_type": "code",
      "execution_count": 4,
      "metadata": {
        "id": "hQ7r45B7wm4v"
      },
      "outputs": [
        {
          "name": "stdout",
          "output_type": "stream",
          "text": [
            "Saved recommendations.tsv with shape=(100, 3)\n",
            "        recipe_slug  score_bound  reward\n",
            "0     apple-crumble     7.483315    0.75\n",
            "1     ma-la-chicken     7.242589    0.50\n",
            "2       quesadillas     7.230044    0.50\n",
            "3             ramen     7.236199    0.00\n",
            "4  pain-au-chocolat     6.957115    1.00\n"
          ]
        }
      ],
      "source": [
        "# YOUR CHANGES HERE\n",
        "\n",
        "Xdf = pd.read_csv(\"features.tsv\", sep=\"\\t\")\n",
        "rdf = pd.read_csv(\"ratings.tsv\", sep=\"\\t\").set_index(\"recipe_slug\")\n",
        "\n",
        "X = Xdf.set_index(\"recipe_slug\")\n",
        "Xmat = X.to_numpy(dtype=float)\n",
        "slugs = X.index.tolist()\n",
        "\n",
        "rating_map = rdf[\"rating\"].to_dict()\n",
        "\n",
        "alpha_ridge = 1.0\n",
        "alpha_linucb = 2.0\n",
        "\n",
        "d = Xmat.shape[1]\n",
        "\n",
        "A = np.eye(d) * alpha_ridge\n",
        "b = np.zeros(d)\n",
        "\n",
        "recs = []\n",
        "\n",
        "for t in range(len(slugs)):\n",
        "    A_inv = np.linalg.inv(A)\n",
        "    theta = A_inv @ b\n",
        "\n",
        "    scores = []\n",
        "    for i, slug in enumerate(slugs):\n",
        "        x = Xmat[i]\n",
        "        est = x @ theta\n",
        "        var = np.sqrt(x @ A_inv @ x)\n",
        "        bound = est + alpha_linucb * var\n",
        "        scores.append((slug, bound))\n",
        "\n",
        "    chosen_slug, chosen_bound = max(scores, key=lambda x: x[1])\n",
        "    i = slugs.index(chosen_slug)\n",
        "\n",
        "    reward = rating_map[chosen_slug]\n",
        "\n",
        "    x = Xmat[i]\n",
        "    A += np.outer(x, x)\n",
        "    b += reward * x\n",
        "\n",
        "    recs.append((chosen_slug, chosen_bound, reward))\n",
        "\n",
        "    slugs.pop(i)\n",
        "    Xmat = np.delete(Xmat, i, axis=0)\n",
        "\n",
        "rec_df = pd.DataFrame(recs, columns=[\"recipe_slug\", \"score_bound\", \"reward\"])\n",
        "rec_df.to_csv(\"recommendations.tsv\", sep=\"\\t\", index=False)\n",
        "\n",
        "print(f\"Saved recommendations.tsv with shape={rec_df.shape}\")\n",
        "print(rec_df.head())\n"
      ]
    },
    {
      "cell_type": "markdown",
      "metadata": {
        "id": "23jv0cD0woSt"
      },
      "source": [
        "Submit \"recommendations.tsv\" in Gradescope."
      ]
    },
    {
      "cell_type": "markdown",
      "metadata": {
        "id": "zi8lV2pbvWMs"
      },
      "source": [
        "## Part 7: Acknowledgments\n",
        "\n",
        "Make a file \"acknowledgments.txt\" documenting any outside sources or help on this project.\n",
        "If you discussed this assignment with anyone, please acknowledge them here.\n",
        "If you used any libraries not mentioned in this module's content, please list them with a brief explanation what you used them for.\n",
        "If you used any generative AI tools, please add links to your transcripts below, and any other information that you feel is necessary to comply with the generative AI policy.\n",
        "If no acknowledgements are appropriate, just write none in the file.\n"
      ]
    },
    {
      "cell_type": "markdown",
      "metadata": {
        "id": "SuNJe62UxCoH"
      },
      "source": [
        "Submit \"acknowledgments.txt\" in Gradescope."
      ]
    },
    {
      "cell_type": "markdown",
      "metadata": {
        "id": "smsTLuFcvR-I"
      },
      "source": [
        "## Part 8: Code\n",
        "\n",
        "Please submit a Jupyter notebook that can reproduce all your calculations and recreate the previously submitted files.\n"
      ]
    },
    {
      "cell_type": "markdown",
      "metadata": {
        "id": "3cgzHyF7wxpr"
      },
      "source": [
        "Submit \"project.ipynb\" in Gradescope."
      ]
    }
  ],
  "metadata": {
    "colab": {
      "toc_visible": false
    },
    "kernelspec": {
      "display_name": "Python 3",
      "name": "python3"
    },
    "language_info": {
      "codemirror_mode": {
        "name": "ipython",
        "version": 3
      },
      "file_extension": ".py",
      "mimetype": "text/x-python",
      "name": "python",
      "nbconvert_exporter": "python",
      "pygments_lexer": "ipython3",
      "version": "3.12.1"
    }
  },
  "nbformat": 4,
  "nbformat_minor": 0
}
